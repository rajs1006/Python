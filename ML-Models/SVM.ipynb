{
 "cells": [
  {
   "cell_type": "code",
   "execution_count": 1,
   "metadata": {},
   "outputs": [],
   "source": [
    "from sklearn.svm import SVC, LinearSVC"
   ]
  },
  {
   "cell_type": "code",
   "execution_count": null,
   "metadata": {},
   "outputs": [],
   "source": [
    "class SVMClassifier():\n",
    "\n",
    "    def __init__(self, C=1.0, kernel='rbf', probability=False, class_weight=None, verbose=True, max_iter=-1):\n",
    "        \n",
    "        if kernel is not None:\n",
    "            print('Kernel : ', kernel)\n",
    "            self.model = SVC(C=C, kernel=kernel, probability=probability,\n",
    "                         class_weight=class_weight, verbose=verbose, max_iter=max_iter)\n",
    "        else:\n",
    "            print(' Linear Kernel with l2 peanlization ')\n",
    "            self.model = LinearSVC(C=C,verbose=verbose)\n",
    "            \n",
    "    def fit(self, X, Y, max_itr = 10, W=None):\n",
    "        kf = KFold(n_splits=max_itr)\n",
    "        X, Y = shuffle(X, Y)\n",
    "        \n",
    "        training_scores = []\n",
    "        validation_scores = []\n",
    "        #for itr in range(0, max_itr):\n",
    "        for train_index, test_index in kf.split(X):\n",
    "            \n",
    "            X_train, X_valid = X[train_index], X[test_index]\n",
    "            Y_train, Y_valid = Y[train_index], Y[test_index]\n",
    "            \n",
    "            self.model.fit(X_train, Y_train, sample_weight=W)\n",
    "            \n",
    "            training_scores.append(self.score(X_train, Y_train))\n",
    "            validation_scores.append(self.score(X_valid, Y_valid))\n",
    "            \n",
    "        print('SVM training done-----')\n",
    "        return training_scores, validation_scores\n",
    "\n",
    "    def predict(self, x):\n",
    "        return self.model.predict(x)\n",
    "\n",
    "    def score(self, x, y, w=None):\n",
    "        score = self.model.score(x, y, sample_weight=w)\n",
    "        \n",
    "        return score\n",
    "    \n",
    "    def get_params(self, deep=True):\n",
    "        return self.model.get_params(deep)\n"
   ]
  },
  {
   "cell_type": "code",
   "execution_count": null,
   "metadata": {},
   "outputs": [],
   "source": [
    "def SVM_model(X_matrix, Y, x_matrix, y, C=1, kernel = 'rbf', max_itr = 10, plot=False, words=False, filename = None):\n",
    "\n",
    "    svm = SVMClassifier(C = C, kernel = kernel)\n",
    "    training_scores, validation_scores = svm.fit(X_matrix, Y, max_itr = max_itr)\n",
    "\n",
    "    # Plot scores\n",
    "    plot_scores(max_itr, training_scores, validation_scores)\n",
    "    \n",
    "    if plot:\n",
    "        file = '{}/{}-boundary.png'.format(result_folder, filename)\n",
    "        plot_boundary(X_matrix, Y, svm, filename = file, h=1)\n",
    "    \n",
    "    print('\\n----------------------------Parameters---------------------------------------------\\n')\n",
    "#     training_score = svm.score(X_matrix, Y)\n",
    "#     print('Trainign Accuracy score : ', training_score)\n",
    "#     print('\\n------------------------------------------------------------------------------------\\n')\n",
    "          \n",
    "    y_trainig_hat = svm.predict(X_matrix)\n",
    "#     print('precision score ', precision_score(Y, y_trainig_hat))\n",
    "#     print('\\n------------------------------------------------------------------------------------\\n')\n",
    "#     print('f1 score ', f1_score(Y, y_trainig_hat))\n",
    "    \n",
    "    train_metric = metric_score(Y, y_trainig_hat, type='Training')\n",
    "\n",
    "#     test_score = svm.score(x_matrix, y)\n",
    "#     print('Test Accuracy score : ', test_score)\n",
    "#     print('\\n------------------------------------------------------------------------------------\\n')\n",
    "          \n",
    "    y_test_hat = svm.predict(x_matrix)\n",
    "#     print('precision score ', precision_score(y, y_test_hat))\n",
    "#     print('\\n------------------------------------------------------------------------------------\\n')\n",
    "#     print('f1 score ', f1_score(y, y_test_hat))\n",
    "    \n",
    "    test_metric = metric_score(y, y_test_hat, type='Test')\n",
    "\n",
    "    if filename is not None:\n",
    "        pd_best = pd.DataFrame({\"best_params\" : {'model': svm.model, 'model__alpha': C}})\n",
    "        save_results_html(filename, pd.concat([pd.concat([train_metric, test_metric], axis=1, sort=False), pd_best], keys=['Score', 'Model'], axis=1, sort=False))\n",
    "    \n",
    "    if words:\n",
    "        print('------- Top words ---------')\n",
    "        print_words(svm.model.dual_coef_.T)"
   ]
  },
  {
   "cell_type": "code",
   "execution_count": null,
   "metadata": {},
   "outputs": [],
   "source": [
    "def SVM_model_selection(X_matrix, Y, x_matrix, y, params, file = None, threads=1):\n",
    "    \n",
    "    GridSearchModel(X_matrix, Y, x_matrix, y, params, filename=file, threads=threads)"
   ]
  }
 ],
 "metadata": {
  "kernelspec": {
   "display_name": "Python 3",
   "language": "python",
   "name": "python3"
  },
  "language_info": {
   "codemirror_mode": {
    "name": "ipython",
    "version": 3
   },
   "file_extension": ".py",
   "mimetype": "text/x-python",
   "name": "python",
   "nbconvert_exporter": "python",
   "pygments_lexer": "ipython3",
   "version": "3.7.3"
  }
 },
 "nbformat": 4,
 "nbformat_minor": 4
}
