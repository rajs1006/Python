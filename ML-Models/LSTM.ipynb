{
 "cells": [
  {
   "cell_type": "code",
   "execution_count": 2,
   "metadata": {},
   "outputs": [],
   "source": [
    "from keras.layers import Dense, Dropout, LSTM, Embedding\n",
    "from keras.callbacks import EarlyStopping, TerminateOnNaN\n",
    "from keras.models import Sequential"
   ]
  },
  {
   "cell_type": "code",
   "execution_count": 2,
   "metadata": {},
   "outputs": [
    {
     "name": "stderr",
     "output_type": "stream",
     "text": [
      "Using TensorFlow backend.\n"
     ]
    }
   ],
   "source": [
    "class LSTMClassifier():\n",
    "\n",
    "    def __init__(self, input_dim, input_len, mode=None, out_dim=50, hidden_out_dim=256, dropout=0.0, verbose=1):\n",
    "\n",
    "        self.verbose = verbose\n",
    "\n",
    "        self.model = Sequential()\n",
    "        \n",
    "        if mode is None:\n",
    "            print('Embeded-LSTM model...')\n",
    "            self.model.add(Embedding(input_dim=input_dim,\n",
    "                                     output_dim=out_dim, input_length=input_len))\n",
    "            self.model.add(\n",
    "                LSTM(activation='relu', return_sequences=True, units=hidden_out_dim))\n",
    "            self.model.add(Dropout(dropout))\n",
    "            self.model.add(LSTM(activation='relu', units=hidden_out_dim,\n",
    "                                recurrent_activation='hard_sigmoid'))\n",
    "            self.model.add(Dropout(dropout))\n",
    "            \n",
    "        elif mode == 'low-dim':\n",
    "            print('Dense model...')\n",
    "            self.model.add(\n",
    "                Dense(output_dim=out_dim, input_shape=(input_len, ), activation='sigmoid'))\n",
    "            self.model.add(Dropout(dropout))\n",
    "            self.model.add(Dense(output_dim=out_dim, activation='sigmoid'))\n",
    "            self.model.add(Dropout(dropout))\n",
    "            self.model.add(Dense(output_dim=out_dim, activation='sigmoid'))\n",
    "            \n",
    "        self.model.add(Dense(1, activation='sigmoid'))\n",
    "\n",
    "        self.model.compile(loss='binary_crossentropy',\n",
    "                           optimizer='adam', metrics=['accuracy'])\n",
    "        print(self.model.summary())\n",
    "\n",
    "    def fit(self, X, Y, epochs=3, batch_size=10, validation_split=0.1):\n",
    "\n",
    "        return self.model.fit(X, Y, batch_size=batch_size,\n",
    "                              epochs=epochs, verbose=self.verbose,\n",
    "                              callbacks=[TerminateOnNaN(), EarlyStopping(monitor='loss')])\n",
    "\n",
    "    def evaluate(self, x, y, batch_size=10):\n",
    "        score, acc = self.model.evaluate(\n",
    "            x, y, batch_size=batch_size, verbose=self.verbose)\n",
    "        return score, acc\n",
    "\n",
    "    def predict(self, x, batch_size=10):\n",
    "        return self.model.predict(x, batch_size=batch_size, verbose=self.verbose)"
   ]
  },
  {
   "cell_type": "code",
   "execution_count": null,
   "metadata": {},
   "outputs": [],
   "source": [
    "def LSTM_model(X_matrix, Y, x_matrix, y, vocab_len, feature_len, epochs = 1, batch_size=100, mode = None, plot=False, filename = None, verbose=1):\n",
    "\n",
    "    LSTM_model = LSTMClassifier(vocab_len + 1, feature_len, mode=mode, verbose=verbose)\n",
    "\n",
    "    LSTM_model.fit(X_matrix, Y, epochs=epochs, batch_size=batch_size, validation_split=None)\n",
    "    \n",
    "    if plot:\n",
    "        file = '{}/{}-boundary.png'.format(result_folder, filename)\n",
    "        plot_boundary(train_tsne_seq_matrix, Y, LSTM_model, filename = file, h=1)\n",
    "\n",
    "    print('\\n----------------------------Parameters--------------------------------\\n')\n",
    "#     train_score, train_acc = LSTM_model.evaluate(train_LSTM_seq_matrix, Y, batch_size=batch_size)\n",
    "#     print('Training score : ', train_score, '  Training Acurracy : ', train_acc)\n",
    "#     print('\\n------------------------------------------------------------------------------------\\n')\n",
    "\n",
    "    y_trainig_hat = LSTM_model.predict(X_matrix)\n",
    "    y_trainig_hat = np.where(y_trainig_hat > 0.5, 1, 0)\n",
    "#     print('Training precision score ', precision_score(Y, y_trainig_hat))\n",
    "#     print('\\n------------------------------------------------------------------------------------\\n')\n",
    "#     print('Training f1 score ', f1_score(Y, y_trainig_hat))\n",
    "#     print('\\n------------------------------------------------------------------------------------\\n')\n",
    "\n",
    "    train_metric = metric_score(Y, y_trainig_hat.reshape(len(y_trainig_hat)), type='Training')\n",
    "    \n",
    "#     test_score, test_acc = LSTM_model.evaluate(test_LSTM_seq_matrix, y, batch_size=batch_size)\n",
    "#     print('Test score : ', test_score, '  Test Acurracy : ', test_acc)\n",
    "#     print('\\n------------------------------------------------------------------------------------\\n')\n",
    "\n",
    "    y_test_hat = LSTM_model.predict(x_matrix)\n",
    "    y_test_hat = np.where(y_test_hat > 0.5, 1, 0)\n",
    "#     print('Test precision score ', precision_score(y, y_test_hat))\n",
    "#     print('\\n------------------------------------------------------------------------------------\\n')\n",
    "#     print('Test f1 score ', f1_score(y, y_test_hat))\n",
    "#     print('\\n------------------------------------------------------------------------------------\\n')\n",
    "          \n",
    "    test_metric = metric_score(y, y_test_hat.reshape(len(y_test_hat)), type='Test')\n",
    "    print(LSTM_model.model)\n",
    "    if filename is not None:\n",
    "        pd_best = pd.DataFrame({\"best_params\" : {'model': 'epochs {} , batch_size  {}'.format(epochs, batch_size), 'model__alpha': batch_size}})\n",
    "        \n",
    "        save_results_html(filename, pd.concat([pd.concat([train_metric, test_metric], axis=1, sort=False), pd_best], keys=['Score', 'Model'], axis=1, sort=False))"
   ]
  }
 ],
 "metadata": {
  "kernelspec": {
   "display_name": "Python 3",
   "language": "python",
   "name": "python3"
  },
  "language_info": {
   "codemirror_mode": {
    "name": "ipython",
    "version": 3
   },
   "file_extension": ".py",
   "mimetype": "text/x-python",
   "name": "python",
   "nbconvert_exporter": "python",
   "pygments_lexer": "ipython3",
   "version": "3.7.3"
  },
  "toc": {
   "base_numbering": 1,
   "nav_menu": {},
   "number_sections": true,
   "sideBar": true,
   "skip_h1_title": false,
   "title_cell": "Table of Contents",
   "title_sidebar": "Contents",
   "toc_cell": false,
   "toc_position": {},
   "toc_section_display": true,
   "toc_window_display": false
  }
 },
 "nbformat": 4,
 "nbformat_minor": 4
}
