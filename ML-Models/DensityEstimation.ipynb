{
 "cells": [
  {
   "cell_type": "code",
   "execution_count": null,
   "metadata": {},
   "outputs": [],
   "source": [
    "from sklearn.neighbors.kde import KernelDensity\n",
    "\n",
    "import math\n",
    "from scipy.stats import multivariate_normal\n",
    "\n",
    "from numpy.linalg import inv, det"
   ]
  },
  {
   "cell_type": "code",
   "execution_count": null,
   "metadata": {},
   "outputs": [],
   "source": [
    "class KDEEstimation():\n",
    "    \n",
    "    def __init__(self, kernel='gaussian', bandwidth=0.2):\n",
    "        self.model = KernelDensity(kernel=kernel, bandwidth=bandwidth)\n",
    "\n",
    "    def fit(self, X, Y):\n",
    "        self.model.fit(X, Y)\n",
    "                                   \n",
    "    def score_samples(self, X):\n",
    "        return self.model.score_samples(X)\n",
    "                                   \n",
    "    def get_params(self):\n",
    "        return self.model.get_params()\n",
    "    \n",
    "class GaussianEstimation():\n",
    "    \n",
    "    def estimateGaussian(X):\n",
    "        m = X.shape[0]\n",
    "        \n",
    "        mu = np.sum(X, axis=0)/m\n",
    "        sigma = np.sum((X - mu) ** 2, axis=0)/m  \n",
    "        \n",
    "        #mu = mu.reshape((len(mu), 1))\n",
    "        sigma = sigma.reshape(len(sigma), 1)\n",
    "        \n",
    "        if (sigma.shape[1] == 1) or (sigma.shape[0] == 1) :\n",
    "            sigma = np.diagflat(sigma)\n",
    "\n",
    "        print('shapes : ' , mu.shape, sigma.shape)\n",
    "        return mu, sigma\n",
    "    \n",
    "    def multivariateGaussian(X, mu, sigma):\n",
    "        \n",
    "        k = len(mu)\n",
    "        X = X - mu\n",
    "        d = det(sigma)  ** (-0.5)\n",
    "        i = inv(sigma)\n",
    "        \n",
    "        m = np.dot(X.dot(i), X.T)\n",
    "        z = ((2 * math.pi) ** (- k / 2)) * d * np.exp(-0.5 * sum(m, 1), dtype='float128')\n",
    "        #print(z)\n",
    "        return z\n",
    "    \n",
    "    def multivariateNormal(X, mu, sigma):\n",
    "        return multivariate_normal(X, mu, sigma)\n",
    "    \n",
    "    def visualize(X, Y, mu, sigma, h=0.5):\n",
    "        \n",
    "        x_min, x_max = X[:, 0].min() - 1, X[:, 0].max() + 1\n",
    "        y_min, y_max = X[:, 1].min() - 1, X[:, 1].max() + 1\n",
    "        xx, yy = np.meshgrid(np.arange(x_min, x_max, h),\n",
    "                             np.arange(y_min, y_max, h))\n",
    "        print('Shapes : ', xx.shape, yy.shape, np.c_[xx.ravel(), yy.ravel()].shape)\n",
    "        Z = GaussianEstimation.multivariateGaussian(np.c_[xx.ravel(), yy.ravel()], mu, sigma)\n",
    "        \n",
    "        Z = Z.reshape(xx.shape)\n",
    "        print('Z.shape', Z.shape)\n",
    "        print('X.shape', X.shape)\n",
    "        plot = Plot()\n",
    "        plot.figure(projection='2D')\n",
    "        plot.plot(X, Y , marker='+')\n",
    "        plot.contour(xx, yy, Z)\n",
    "\n",
    "        plot.show()\n",
    "        "
   ]
  },
  {
   "cell_type": "code",
   "execution_count": null,
   "metadata": {},
   "outputs": [],
   "source": [
    "def KDEEstimationModel(X_matrix, Y, x_matrix, y):\n",
    "    params = {'bandwidth': np.logspace(-1, 1, 20)}\n",
    "    GridSearchModel(X_matrix, Y, x_matrix, y, KDEEstimation(), params)"
   ]
  }
 ],
 "metadata": {
  "kernelspec": {
   "display_name": "Python 3",
   "language": "python",
   "name": "python3"
  },
  "language_info": {
   "codemirror_mode": {
    "name": "ipython",
    "version": 3
   },
   "file_extension": ".py",
   "mimetype": "text/x-python",
   "name": "python",
   "nbconvert_exporter": "python",
   "pygments_lexer": "ipython3",
   "version": "3.7.3"
  }
 },
 "nbformat": 4,
 "nbformat_minor": 4
}
