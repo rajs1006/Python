{
 "cells": [
  {
   "cell_type": "code",
   "execution_count": 2,
   "metadata": {},
   "outputs": [
    {
     "name": "stderr",
     "output_type": "stream",
     "text": [
      "Using TensorFlow backend.\n"
     ]
    },
    {
     "name": "stdout",
     "output_type": "stream",
     "text": [
      "Automatically created module for IPython interactive environment\n",
      "X.shape  (10346,)  Y.shape  (10346,)  x.shape  (1826,)  y.shape  (1826,)\n"
     ]
    }
   ],
   "source": [
    "%run Paywall-Utils.ipynb"
   ]
  },
  {
   "cell_type": "code",
   "execution_count": 3,
   "metadata": {},
   "outputs": [
    {
     "name": "stdout",
     "output_type": "stream",
     "text": [
      "Matrix shape :  (10346, 4260)\n"
     ]
    },
    {
     "data": {
      "text/html": [
       "<div>\n",
       "<style scoped>\n",
       "    .dataframe tbody tr th:only-of-type {\n",
       "        vertical-align: middle;\n",
       "    }\n",
       "\n",
       "    .dataframe tbody tr th {\n",
       "        vertical-align: top;\n",
       "    }\n",
       "\n",
       "    .dataframe thead th {\n",
       "        text-align: right;\n",
       "    }\n",
       "</style>\n",
       "<table border=\"1\" class=\"dataframe\">\n",
       "  <thead>\n",
       "    <tr style=\"text-align: right;\">\n",
       "      <th></th>\n",
       "      <th>hamburger sv</th>\n",
       "      <th>geo</th>\n",
       "      <th>d</th>\n",
       "      <th>hamburger sv</th>\n",
       "      <th>pauli</th>\n",
       "      <th>fußball</th>\n",
       "      <th>hamburg</th>\n",
       "      <th>zweite bundesliga</th>\n",
       "      <th>erste bundesliga</th>\n",
       "      <th>fc st</th>\n",
       "      <th>...</th>\n",
       "      <th>tasci</th>\n",
       "      <th>serdar</th>\n",
       "      <th>nivea</th>\n",
       "      <th>hildegard</th>\n",
       "      <th>kimmich</th>\n",
       "      <th>mgm</th>\n",
       "      <th>uefa</th>\n",
       "      <th>wilde</th>\n",
       "      <th>celine</th>\n",
       "      <th>amtsgerichte</th>\n",
       "    </tr>\n",
       "  </thead>\n",
       "  <tbody>\n",
       "    <tr>\n",
       "      <th>0</th>\n",
       "      <td>0.0</td>\n",
       "      <td>1.0</td>\n",
       "      <td>1.0</td>\n",
       "      <td>1.0</td>\n",
       "      <td>0.0</td>\n",
       "      <td>0.0</td>\n",
       "      <td>0.0</td>\n",
       "      <td>0.0</td>\n",
       "      <td>0.0</td>\n",
       "      <td>0.0</td>\n",
       "      <td>...</td>\n",
       "      <td>0.0</td>\n",
       "      <td>0.0</td>\n",
       "      <td>0.0</td>\n",
       "      <td>0.0</td>\n",
       "      <td>0.0</td>\n",
       "      <td>0.0</td>\n",
       "      <td>0.0</td>\n",
       "      <td>0.0</td>\n",
       "      <td>0.0</td>\n",
       "      <td>0.0</td>\n",
       "    </tr>\n",
       "  </tbody>\n",
       "</table>\n",
       "<p>1 rows × 4260 columns</p>\n",
       "</div>"
      ],
      "text/plain": [
       "   hamburger sv  geo    d   hamburger sv   pauli   fußball   hamburg  \\\n",
       "0           0.0  1.0  1.0            1.0     0.0       0.0       0.0   \n",
       "\n",
       "    zweite bundesliga    erste bundesliga   fc st  ...   tasci   serdar  \\\n",
       "0                  0.0                 0.0    0.0  ...     0.0      0.0   \n",
       "\n",
       "    nivea   hildegard   kimmich  mgm  uefa    wilde   celine   amtsgerichte  \n",
       "0     0.0          0.0      0.0  0.0    0.0     0.0      0.0            0.0  \n",
       "\n",
       "[1 rows x 4260 columns]"
      ]
     },
     "execution_count": 3,
     "metadata": {},
     "output_type": "execute_result"
    }
   ],
   "source": [
    "emb_matrix = get_embeded_matrix(X)\n",
    "\n",
    "a = [k for k in tok.tokenizer.word_index.keys()]\n",
    "df = pd.DataFrame(data=emb_matrix, columns=a)\n",
    "\n",
    "df.head(1)"
   ]
  },
  {
   "cell_type": "code",
   "execution_count": 4,
   "metadata": {},
   "outputs": [
    {
     "name": "stdout",
     "output_type": "stream",
     "text": [
      "X.shape  (8632,)  Y.shape  (8632,)  x.shape  (1524,)  y.shape  (1524,)\n",
      "(8632,) (1524,) (8632,) (1524,)\n",
      "X.shape  (1713,)  Y.shape  (1713,)  x.shape  (303,)  y.shape  (303,)\n",
      "(1713,) (303,) (1713,) (303,)\n"
     ]
    }
   ],
   "source": [
    "X_sequences_matrix_pos, X_embeded_matrix_pos, Y_pos, x_sequences_matrix_pos, x_embeded_matrix_pos, y_pos, tok_pos = get_pos_matrix()\n",
    "\n",
    "a = [k for k in tok_pos.tokenizer.word_index.keys()]\n",
    "df_pos = pd.DataFrame(data=X_embeded_matrix_pos, columns=a)\n",
    "\n",
    "\n",
    "X_sequences_matrix_neg, X_embeded_matrix_neg, Y_neg, x_sequences_matrix_neg, x_embeded_matrix_neg, y_neg, tok_neg = get_neg_matrix()\n",
    "\n",
    "b = [k for k in tok_neg.tokenizer.word_index.keys()]\n",
    "df_neg = pd.DataFrame(data=X_embeded_matrix_neg, columns=b)\n"
   ]
  },
  {
   "cell_type": "markdown",
   "metadata": {},
   "source": [
    "<b>-------------- MCA ----------------------</b>"
   ]
  },
  {
   "cell_type": "code",
   "execution_count": 5,
   "metadata": {},
   "outputs": [
    {
     "name": "stdout",
     "output_type": "stream",
     "text": [
      "MCA done---------\n"
     ]
    }
   ],
   "source": [
    "m = MCAPrinceModel()\n",
    "r, c = m.fit(df)"
   ]
  },
  {
   "cell_type": "code",
   "execution_count": null,
   "metadata": {},
   "outputs": [],
   "source": [
    "m.plot_mca(df, y_component=1, show_row_labels=False, show_column_labels=False)"
   ]
  },
  {
   "cell_type": "code",
   "execution_count": null,
   "metadata": {},
   "outputs": [],
   "source": [
    "m_pos = MCAPrinceModel()\n",
    "m_pos.fit(df_pos)"
   ]
  },
  {
   "cell_type": "code",
   "execution_count": null,
   "metadata": {},
   "outputs": [],
   "source": [
    "m_pos.plot_mca(df_pos, y_component=1, show_row_labels=False, show_column_labels=False)"
   ]
  },
  {
   "cell_type": "code",
   "execution_count": null,
   "metadata": {},
   "outputs": [],
   "source": [
    "m_neg = MCAPrinceModel()\n",
    "m_neg.fit(df_neg)\n",
    "\n",
    "m_neg.plot_mca(df_neg, y_component=1, show_row_labels=False, show_columncorrels=False)"
   ]
  },
  {
   "cell_type": "markdown",
   "metadata": {},
   "source": [
    "<b>-------------- PCA ----------------------</b>"
   ]
  },
  {
   "cell_type": "code",
   "execution_count": 27,
   "metadata": {},
   "outputs": [
    {
     "name": "stdout",
     "output_type": "stream",
     "text": [
      "PCA done---------\n"
     ]
    }
   ],
   "source": [
    "p = PCAPrinceModel(dim=100)\n",
    "r, corr, eig = p.fit(df)"
   ]
  },
  {
   "cell_type": "code",
   "execution_count": 28,
   "metadata": {
    "slideshow": {
     "slide_type": "slide"
    }
   },
   "outputs": [
    {
     "data": {
      "image/png": "[encoded data removed]",
      "text/plain": [
       "<Figure size 1440x360 with 1 Axes>"
      ]
     },
     "metadata": {
      "needs_background": "light"
     },
     "output_type": "display_data"
    }
   ],
   "source": [
    "p.plot_pca(df, Y,  y_component=99)"
   ]
  },
  {
   "cell_type": "code",
   "execution_count": 18,
   "metadata": {},
   "outputs": [
    {
     "name": "stdout",
     "output_type": "stream",
     "text": [
      "PCA done---------\n"
     ]
    },
    {
     "data": {
      "image/png": "[encoded data removed]",
      "text/plain": [
       "<Figure size 1440x360 with 1 Axes>"
      ]
     },
     "metadata": {
      "needs_background": "light"
     },
     "output_type": "display_data"
    }
   ],
   "source": [
    "p_pos = PCAPrinceModel(dim=100, center=False)\n",
    "p_pos.fit(df_pos)\n",
    "\n",
    "p_pos.plot_pca(df_pos, Y_pos,  y_component=99)"
   ]
  },
  {
   "cell_type": "code",
   "execution_count": 17,
   "metadata": {},
   "outputs": [],
   "source": [
    "#p_pos.fit(df_pos)\n"
   ]
  },
  {
   "cell_type": "code",
   "execution_count": 19,
   "metadata": {},
   "outputs": [
    {
     "name": "stdout",
     "output_type": "stream",
     "text": [
      "PCA done---------\n"
     ]
    },
    {
     "data": {
      "image/png": "[encoded data removed]",
      "text/plain": [
       "<Figure size 1440x360 with 1 Axes>"
      ]
     },
     "metadata": {
      "needs_background": "light"
     },
     "output_type": "display_data"
    }
   ],
   "source": [
    "p_neg = PCAPrinceModel(dim=100, center=False)\n",
    "p_neg.fit(df_neg)\n",
    "\n",
    "p_neg.plot_pca(df_neg, Y_neg,  y_component=99)"
   ]
  },
  {
   "cell_type": "code",
   "execution_count": 2,
   "metadata": {},
   "outputs": [],
   "source": [
    "# from keras.preprocessing.text import Tokenizer\n",
    "\n",
    "# tokenizer = Tokenizer(num_words = None)\n",
    "# texts = ['a b b c c c', 'a b b c c']\n",
    "# tokenizer.fit_on_texts(texts)\n",
    "# print(tokenizer.word_index.keys())\n",
    "# print(tokenizer.texts_to_matrix(texts, mode='tfidf'))\n",
    "# print(tokenizer.texts_to_matrix(texts, mode='tfidf')[:, 1:])"
   ]
  }
 ],
 "metadata": {
  "kernelspec": {
   "display_name": "Python 3",
   "language": "python",
   "name": "python3"
  },
  "language_info": {
   "codemirror_mode": {
    "name": "ipython",
    "version": 3
   },
   "file_extension": ".py",
   "mimetype": "text/x-python",
   "name": "python",
   "nbconvert_exporter": "python",
   "pygments_lexer": "ipython3",
   "version": "3.7.3"
  },
  "toc": {
   "base_numbering": 1,
   "nav_menu": {},
   "number_sections": true,
   "sideBar": true,
   "skip_h1_title": false,
   "title_cell": "Table of Contents",
   "title_sidebar": "Contents",
   "toc_cell": false,
   "toc_position": {},
   "toc_section_display": true,
   "toc_window_display": false
  }
 },
 "nbformat": 4,
 "nbformat_minor": 4
}
