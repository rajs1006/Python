{
 "cells": [
  {
   "cell_type": "code",
   "execution_count": 2,
   "metadata": {},
   "outputs": [
    {
     "name": "stderr",
     "output_type": "stream",
     "text": [
      "ERROR:root:File `'GridSearch.ipynb.py'` not found.\n",
      "ERROR:root:File `'DensityEstimation.ipynb.py'` not found.\n"
     ]
    },
    {
     "name": "stdout",
     "output_type": "stream",
     "text": [
      "Automatically created module for IPython interactive environment\n"
     ]
    }
   ],
   "source": [
    "#%reset -f\n",
    "\n",
    "%run DataUtils.ipynb\n",
    "\n",
    "%run LSTM.ipynb\n",
    "%run Visualizer.ipynb\n",
    "%run SVM.ipynb\n",
    "%run SVM-StochasticLearning.ipynb\n",
    "%run NaiveBayes.ipynb\n",
    "%run GridSearch.ipynb\n",
    "%run DensityEstimation.ipynb\n",
    "\n",
    "plt.style.use('seaborn-pastel')\n",
    "plt.ion()\n",
    "\n",
    "%matplotlib tk \n",
    "\n",
    "import sys\n",
    "\n",
    "sys.setrecursionlimit(1500)\n",
    "\n",
    "print(__doc__) "
   ]
  },
  {
   "cell_type": "code",
   "execution_count": 1,
   "metadata": {},
   "outputs": [
    {
     "ename": "NameError",
     "evalue": "name 'Data' is not defined",
     "output_type": "error",
     "traceback": [
      "\u001b[0;31m---------------------------------------------------------------------------\u001b[0m",
      "\u001b[0;31mNameError\u001b[0m                                 Traceback (most recent call last)",
      "\u001b[0;32m<ipython-input-1-f15971341354>\u001b[0m in \u001b[0;36m<module>\u001b[0;34m\u001b[0m\n\u001b[0;32m----> 1\u001b[0;31m \u001b[0mdata_model\u001b[0m \u001b[0;34m=\u001b[0m \u001b[0mData\u001b[0m\u001b[0;34m(\u001b[0m\u001b[0;34m'Abenblatt_sports_data.csv'\u001b[0m\u001b[0;34m)\u001b[0m\u001b[0;34m\u001b[0m\u001b[0;34m\u001b[0m\u001b[0m\n\u001b[0m\u001b[1;32m      2\u001b[0m \u001b[0mdata\u001b[0m \u001b[0;34m=\u001b[0m \u001b[0mdata_model\u001b[0m\u001b[0;34m.\u001b[0m\u001b[0mget_data\u001b[0m\u001b[0;34m(\u001b[0m\u001b[0mdtype\u001b[0m\u001b[0;34m=\u001b[0m\u001b[0;34m{\u001b[0m\u001b[0;34m'isPaidContent'\u001b[0m\u001b[0;34m:\u001b[0m \u001b[0mnp\u001b[0m\u001b[0;34m.\u001b[0m\u001b[0mint8\u001b[0m\u001b[0;34m}\u001b[0m\u001b[0;34m)\u001b[0m\u001b[0;34m\u001b[0m\u001b[0;34m\u001b[0m\u001b[0m\n",
      "\u001b[0;31mNameError\u001b[0m: name 'Data' is not defined"
     ]
    }
   ],
   "source": [
    "data_model = Data('Abenblatt_sports_data.csv')\n",
    "data = data_model.get_data(dtype={'isPaidContent': np.int8})"
   ]
  },
  {
   "cell_type": "code",
   "execution_count": 5,
   "metadata": {},
   "outputs": [
    {
     "name": "stdout",
     "output_type": "stream",
     "text": [
      "-----------------------------------------------------------------------------------------------------------\n",
      "\n",
      "-------------- Duplicate Article ID and Page tag combination but different isPaidContent -----------------\n",
      "5158\n",
      "-----------------------------------------------------------------------------------------------------------\n",
      "\n"
     ]
    },
    {
     "data": {
      "text/html": [
       "<div>\n",
       "<style scoped>\n",
       "    .dataframe tbody tr th:only-of-type {\n",
       "        vertical-align: middle;\n",
       "    }\n",
       "\n",
       "    .dataframe tbody tr th {\n",
       "        vertical-align: top;\n",
       "    }\n",
       "\n",
       "    .dataframe thead th {\n",
       "        text-align: right;\n",
       "    }\n",
       "</style>\n",
       "<table border=\"1\" class=\"dataframe\">\n",
       "  <thead>\n",
       "    <tr style=\"text-align: right;\">\n",
       "      <th></th>\n",
       "      <th>isPaidContent</th>\n",
       "      <th>pageArticleID</th>\n",
       "      <th>Source/Medium</th>\n",
       "      <th>City</th>\n",
       "      <th>City ID</th>\n",
       "      <th>Page Views</th>\n",
       "      <th>Hits</th>\n",
       "      <th>Inbound Clicks</th>\n",
       "      <th>Users</th>\n",
       "      <th>Pages/Session</th>\n",
       "      <th>Avg. Time on Page</th>\n",
       "      <th>Abo Plus Bestellungen</th>\n",
       "      <th>Sessions</th>\n",
       "      <th>Avg. Session Duration</th>\n",
       "      <th>Bounce Rate</th>\n",
       "      <th>Paywallview</th>\n",
       "    </tr>\n",
       "  </thead>\n",
       "  <tbody>\n",
       "    <tr>\n",
       "      <th>453428</th>\n",
       "      <td>1</td>\n",
       "      <td>106505102</td>\n",
       "      <td>google / organic</td>\n",
       "      <td>1004234</td>\n",
       "      <td>Munich</td>\n",
       "      <td>11</td>\n",
       "      <td>11</td>\n",
       "      <td>0.000000</td>\n",
       "      <td>11</td>\n",
       "      <td>1.000000</td>\n",
       "      <td>26.000000</td>\n",
       "      <td>0</td>\n",
       "      <td>11</td>\n",
       "      <td>2.363636</td>\n",
       "      <td>0.909091</td>\n",
       "      <td>0</td>\n",
       "    </tr>\n",
       "    <tr>\n",
       "      <th>112164</th>\n",
       "      <td>1</td>\n",
       "      <td>106505102</td>\n",
       "      <td>google / organic</td>\n",
       "      <td>1003854</td>\n",
       "      <td>Berlin</td>\n",
       "      <td>56</td>\n",
       "      <td>57</td>\n",
       "      <td>0.018519</td>\n",
       "      <td>51</td>\n",
       "      <td>1.037037</td>\n",
       "      <td>332.444444</td>\n",
       "      <td>0</td>\n",
       "      <td>54</td>\n",
       "      <td>59.111111</td>\n",
       "      <td>0.851852</td>\n",
       "      <td>0</td>\n",
       "    </tr>\n",
       "  </tbody>\n",
       "</table>\n",
       "</div>"
      ],
      "text/plain": [
       "        isPaidContent  pageArticleID     Source/Medium     City City ID  \\\n",
       "453428              1      106505102  google / organic  1004234  Munich   \n",
       "112164              1      106505102  google / organic  1003854  Berlin   \n",
       "\n",
       "        Page Views  Hits  Inbound Clicks  Users  Pages/Session  \\\n",
       "453428          11    11        0.000000     11       1.000000   \n",
       "112164          56    57        0.018519     51       1.037037   \n",
       "\n",
       "        Avg. Time on Page  Abo Plus Bestellungen  Sessions  \\\n",
       "453428          26.000000                      0        11   \n",
       "112164         332.444444                      0        54   \n",
       "\n",
       "        Avg. Session Duration  Bounce Rate  Paywallview  \n",
       "453428               2.363636     0.909091            0  \n",
       "112164              59.111111     0.851852            0  "
      ]
     },
     "metadata": {},
     "output_type": "display_data"
    },
    {
     "name": "stdout",
     "output_type": "stream",
     "text": [
      "-----------------------------------------------------------------------------------------------------------\n",
      "\n",
      "-------------- Same Article ID is present more than 2 times -----------------\n",
      "106560367    7017\n",
      "216085815    1826\n",
      "215865677    1794\n",
      "226255187    1456\n",
      "216389909    1208\n",
      "Name: pageArticleID, dtype: int64\n",
      "------------------------------------------------------\n",
      "\n",
      "-------------- Max repeated article id -----------------\n",
      "\n"
     ]
    },
    {
     "data": {
      "text/html": [
       "<div>\n",
       "<style scoped>\n",
       "    .dataframe tbody tr th:only-of-type {\n",
       "        vertical-align: middle;\n",
       "    }\n",
       "\n",
       "    .dataframe tbody tr th {\n",
       "        vertical-align: top;\n",
       "    }\n",
       "\n",
       "    .dataframe thead th {\n",
       "        text-align: right;\n",
       "    }\n",
       "</style>\n",
       "<table border=\"1\" class=\"dataframe\">\n",
       "  <thead>\n",
       "    <tr style=\"text-align: right;\">\n",
       "      <th></th>\n",
       "      <th>isPaidContent</th>\n",
       "      <th>pageArticleID</th>\n",
       "      <th>Source/Medium</th>\n",
       "      <th>City</th>\n",
       "      <th>City ID</th>\n",
       "      <th>Page Views</th>\n",
       "      <th>Hits</th>\n",
       "      <th>Inbound Clicks</th>\n",
       "      <th>Users</th>\n",
       "      <th>Pages/Session</th>\n",
       "      <th>Avg. Time on Page</th>\n",
       "      <th>Abo Plus Bestellungen</th>\n",
       "      <th>Sessions</th>\n",
       "      <th>Avg. Session Duration</th>\n",
       "      <th>Bounce Rate</th>\n",
       "      <th>Paywallview</th>\n",
       "    </tr>\n",
       "  </thead>\n",
       "  <tbody>\n",
       "    <tr>\n",
       "      <th>821587</th>\n",
       "      <td>0</td>\n",
       "      <td>149550</td>\n",
       "      <td>google / organic</td>\n",
       "      <td>1004437</td>\n",
       "      <td>Hamburg</td>\n",
       "      <td>4</td>\n",
       "      <td>4</td>\n",
       "      <td>0.0</td>\n",
       "      <td>4</td>\n",
       "      <td>1.0</td>\n",
       "      <td>13.0</td>\n",
       "      <td>0</td>\n",
       "      <td>4</td>\n",
       "      <td>3.25</td>\n",
       "      <td>0.75</td>\n",
       "      <td>0</td>\n",
       "    </tr>\n",
       "  </tbody>\n",
       "</table>\n",
       "</div>"
      ],
      "text/plain": [
       "        isPaidContent  pageArticleID     Source/Medium     City  City ID  \\\n",
       "821587              0         149550  google / organic  1004437  Hamburg   \n",
       "\n",
       "        Page Views  Hits  Inbound Clicks  Users  Pages/Session  \\\n",
       "821587           4     4             0.0      4            1.0   \n",
       "\n",
       "        Avg. Time on Page  Abo Plus Bestellungen  Sessions  \\\n",
       "821587               13.0                      0         4   \n",
       "\n",
       "        Avg. Session Duration  Bounce Rate  Paywallview  \n",
       "821587                   3.25         0.75            0  "
      ]
     },
     "metadata": {},
     "output_type": "display_data"
    },
    {
     "name": "stdout",
     "output_type": "stream",
     "text": [
      "\n",
      "-------------- Duplicate pagetags/Article ID -----------------\n",
      "\n"
     ]
    },
    {
     "data": {
      "text/html": [
       "<div>\n",
       "<style scoped>\n",
       "    .dataframe tbody tr th:only-of-type {\n",
       "        vertical-align: middle;\n",
       "    }\n",
       "\n",
       "    .dataframe tbody tr th {\n",
       "        vertical-align: top;\n",
       "    }\n",
       "\n",
       "    .dataframe thead th {\n",
       "        text-align: right;\n",
       "    }\n",
       "</style>\n",
       "<table border=\"1\" class=\"dataframe\">\n",
       "  <thead>\n",
       "    <tr style=\"text-align: right;\">\n",
       "      <th></th>\n",
       "      <th></th>\n",
       "      <th></th>\n",
       "      <th></th>\n",
       "      <th>isPaidContent</th>\n",
       "      <th>Page Views</th>\n",
       "      <th>Hits</th>\n",
       "      <th>Inbound Clicks</th>\n",
       "      <th>Users</th>\n",
       "      <th>Pages/Session</th>\n",
       "      <th>Avg. Time on Page</th>\n",
       "      <th>Abo Plus Bestellungen</th>\n",
       "      <th>Sessions</th>\n",
       "      <th>Avg. Session Duration</th>\n",
       "      <th>Bounce Rate</th>\n",
       "      <th>Paywallview</th>\n",
       "    </tr>\n",
       "    <tr>\n",
       "      <th>pageArticleID</th>\n",
       "      <th>Source/Medium</th>\n",
       "      <th>City</th>\n",
       "      <th>City ID</th>\n",
       "      <th></th>\n",
       "      <th></th>\n",
       "      <th></th>\n",
       "      <th></th>\n",
       "      <th></th>\n",
       "      <th></th>\n",
       "      <th></th>\n",
       "      <th></th>\n",
       "      <th></th>\n",
       "      <th></th>\n",
       "      <th></th>\n",
       "      <th></th>\n",
       "    </tr>\n",
       "  </thead>\n",
       "  <tbody>\n",
       "    <tr>\n",
       "      <th>149550</th>\n",
       "      <th>google / organic</th>\n",
       "      <th>1004437</th>\n",
       "      <th>Hamburg</th>\n",
       "      <td>0</td>\n",
       "      <td>4</td>\n",
       "      <td>4</td>\n",
       "      <td>0.0</td>\n",
       "      <td>4</td>\n",
       "      <td>1.0</td>\n",
       "      <td>13.0</td>\n",
       "      <td>0</td>\n",
       "      <td>4</td>\n",
       "      <td>3.25</td>\n",
       "      <td>0.75</td>\n",
       "      <td>0</td>\n",
       "    </tr>\n",
       "    <tr>\n",
       "      <th>149906</th>\n",
       "      <th>facebook / social</th>\n",
       "      <th>1004437</th>\n",
       "      <th>Hamburg</th>\n",
       "      <td>0</td>\n",
       "      <td>6</td>\n",
       "      <td>6</td>\n",
       "      <td>0.0</td>\n",
       "      <td>6</td>\n",
       "      <td>6.0</td>\n",
       "      <td>44.5</td>\n",
       "      <td>0</td>\n",
       "      <td>1</td>\n",
       "      <td>0.00</td>\n",
       "      <td>1.00</td>\n",
       "      <td>0</td>\n",
       "    </tr>\n",
       "  </tbody>\n",
       "</table>\n",
       "</div>"
      ],
      "text/plain": [
       "                                                 isPaidContent  Page Views  \\\n",
       "pageArticleID Source/Medium     City    City ID                              \n",
       "149550        google / organic  1004437 Hamburg              0           4   \n",
       "149906        facebook / social 1004437 Hamburg              0           6   \n",
       "\n",
       "                                                 Hits  Inbound Clicks  Users  \\\n",
       "pageArticleID Source/Medium     City    City ID                                \n",
       "149550        google / organic  1004437 Hamburg     4             0.0      4   \n",
       "149906        facebook / social 1004437 Hamburg     6             0.0      6   \n",
       "\n",
       "                                                 Pages/Session  \\\n",
       "pageArticleID Source/Medium     City    City ID                  \n",
       "149550        google / organic  1004437 Hamburg            1.0   \n",
       "149906        facebook / social 1004437 Hamburg            6.0   \n",
       "\n",
       "                                                 Avg. Time on Page  \\\n",
       "pageArticleID Source/Medium     City    City ID                      \n",
       "149550        google / organic  1004437 Hamburg               13.0   \n",
       "149906        facebook / social 1004437 Hamburg               44.5   \n",
       "\n",
       "                                                 Abo Plus Bestellungen  \\\n",
       "pageArticleID Source/Medium     City    City ID                          \n",
       "149550        google / organic  1004437 Hamburg                      0   \n",
       "149906        facebook / social 1004437 Hamburg                      0   \n",
       "\n",
       "                                                 Sessions  \\\n",
       "pageArticleID Source/Medium     City    City ID             \n",
       "149550        google / organic  1004437 Hamburg         4   \n",
       "149906        facebook / social 1004437 Hamburg         1   \n",
       "\n",
       "                                                 Avg. Session Duration  \\\n",
       "pageArticleID Source/Medium     City    City ID                          \n",
       "149550        google / organic  1004437 Hamburg                   3.25   \n",
       "149906        facebook / social 1004437 Hamburg                   0.00   \n",
       "\n",
       "                                                 Bounce Rate  Paywallview  \n",
       "pageArticleID Source/Medium     City    City ID                            \n",
       "149550        google / organic  1004437 Hamburg         0.75            0  \n",
       "149906        facebook / social 1004437 Hamburg         1.00            0  "
      ]
     },
     "metadata": {},
     "output_type": "display_data"
    },
    {
     "name": "stdout",
     "output_type": "stream",
     "text": [
      "-----------------------------------------------------------------------------------------------------------\n",
      "\n",
      "-------------------------- Multindex value count --------------------------------------------------------\n",
      "(216119419, google / organic, 1004596, Bochum)    2\n",
      "dtype: int64\n",
      "-------------------------- Total count of Article ID --------------------------------------------------------\n",
      "1048574\n",
      "-------------- Count of Unique Article ID --------------------------------\n",
      "134914\n",
      "-------------- Total Duplicate Article ID -----------------\n",
      "913660\n"
     ]
    }
   ],
   "source": [
    "#Code specific to this block\n",
    "#Data evaluation\n",
    "\n",
    "#data_discrepancy(data,sortByKey = ['pageArticleID'], groupByKey = ['pageArticleID'] ,indexLevel=['pageArticleID','Source/Medium' ,'City', 'City ID'])"
   ]
  },
  {
   "cell_type": "code",
   "execution_count": 30,
   "metadata": {
    "cell_style": "center"
   },
   "outputs": [
    {
     "name": "stdout",
     "output_type": "stream",
     "text": [
      "Total positive values (isPaidContent == 1) : 285477\n",
      "Total Negative values (isPaidContent == 0) : 42697\n"
     ]
    }
   ],
   "source": [
    "#print(data.dtypes, ' : ', data.count())\n",
    "\n",
    "pos = data[data.isPaidContent == 1].copy()\n",
    "neg = data[data.isPaidContent == 0].copy()\n",
    "\n",
    "print(\"Total positive values (isPaidContent == 1) : {}\".format( pos.count()[1]))\n",
    "print(\"Total Negative values (isPaidContent == 0) : {}\".format( neg.count()[1]))"
   ]
  },
  {
   "cell_type": "code",
   "execution_count": 9,
   "metadata": {},
   "outputs": [
    {
     "name": "stdout",
     "output_type": "stream",
     "text": [
      "X.shape  (10346,)  Y.shape  (10346,)  x.shape  (1826,)  y.shape  (1826,)\n"
     ]
    }
   ],
   "source": [
    "X, x, Y, y = data_model.process_data(data)\n",
    "\n",
    "tok = DataTokenizer(X, max_len = 20)\n",
    "\n",
    "def get_embeded_matrix(data):\n",
    "    embeded_matrix = tok.oneHotEncoding(data)\n",
    "    print('Matrix shape : ', embeded_matrix.shape)\n",
    "    \n",
    "    return embeded_matrix\n",
    "\n",
    "def get_sequence_matrix(data):\n",
    "    sequence_matrix = tok.tokenize(data)\n",
    "    print('Matrix shape : ', sequence_matrix.shape)\n",
    "    \n",
    "    return sequence_matrix\n",
    "\n",
    "def get_tfidf_matrix(data):\n",
    "    tfidf_matrix = tok.tfidfEncoding(data)\n",
    "    print('Matrix shape : ', tfidf_matrix.shape)\n",
    "    \n",
    "    return tfidf_matrix\n",
    "\n",
    "vocab_len, feature_len = tok.getVocabDim()"
   ]
  },
  {
   "cell_type": "markdown",
   "metadata": {},
   "source": [
    "<b>---------------Data Pos/Neg---------------------------</b>"
   ]
  },
  {
   "cell_type": "code",
   "execution_count": 11,
   "metadata": {},
   "outputs": [],
   "source": [
    "def get_pos_matrix():\n",
    "\n",
    "    X_pos, x_pos, Y_pos, y_pos = data_model.process_data(pos)\n",
    "    print(X_pos.shape, x_pos.shape, Y_pos.shape, y_pos.shape)\n",
    "\n",
    "    tok = DataTokenizer(X_pos, max_len = 20)\n",
    "\n",
    "    X_sequences_matrix_pos = tok.tokenize(X_pos)\n",
    "    x_sequences_matrix_pos = tok.tokenize(x_pos)\n",
    "    \n",
    "    X_embeded_matrix_pos = tok.oneHotEncoding(X_pos)\n",
    "    x_embeded_matrix_pos = tok.oneHotEncoding(x_pos)\n",
    "    \n",
    "    return X_sequences_matrix_pos, X_embeded_matrix_pos, Y_pos, x_sequences_matrix_pos, x_embeded_matrix_pos, y_pos, tok"
   ]
  },
  {
   "cell_type": "code",
   "execution_count": 12,
   "metadata": {},
   "outputs": [],
   "source": [
    "def get_neg_matrix():\n",
    "\n",
    "    X_neg, x_neg, Y_neg, y_neg = data_model.process_data(neg)\n",
    "    print(X_neg.shape, x_neg.shape, Y_neg.shape, y_neg.shape)\n",
    "\n",
    "    tok = DataTokenizer(X_neg, max_len = 20)\n",
    "\n",
    "    X_sequences_matrix_neg = tok.tokenize(X_neg)\n",
    "    x_sequences_matrix_neg = tok.tokenize(x_neg)\n",
    "    \n",
    "    X_embeded_matrix_neg = tok.oneHotEncoding(X_neg)\n",
    "    x_embeded_matrix_neg = tok.tokenize(x_neg)\n",
    "    \n",
    "    return X_sequences_matrix_neg, X_embeded_matrix_neg, Y_neg, x_sequences_matrix_neg, x_embeded_matrix_neg, y_neg, tok\n"
   ]
  },
  {
   "cell_type": "markdown",
   "metadata": {},
   "source": [
    "<b>---------- Tsne Data ------------------<b>"
   ]
  },
  {
   "cell_type": "code",
   "execution_count": 13,
   "metadata": {},
   "outputs": [],
   "source": [
    "def get_tsne_matrix(matrix, dim=2):\n",
    "    # print_words(svm.model.dual_coef_.T)\n",
    "    sne_matrix = TSNEModel(dim=dim).fit(matrix)\n",
    "\n",
    "    return sne_matrix"
   ]
  }
 ],
 "metadata": {
  "kernelspec": {
   "display_name": "Python 3",
   "language": "python",
   "name": "python3"
  },
  "language_info": {
   "codemirror_mode": {
    "name": "ipython",
    "version": 3
   },
   "file_extension": ".py",
   "mimetype": "text/x-python",
   "name": "python",
   "nbconvert_exporter": "python",
   "pygments_lexer": "ipython3",
   "version": "3.7.3"
  },
  "toc": {
   "base_numbering": 1,
   "nav_menu": {},
   "number_sections": true,
   "sideBar": true,
   "skip_h1_title": false,
   "title_cell": "Table of Contents",
   "title_sidebar": "Contents",
   "toc_cell": false,
   "toc_position": {},
   "toc_section_display": true,
   "toc_window_display": false
  }
 },
 "nbformat": 4,
 "nbformat_minor": 4
}
