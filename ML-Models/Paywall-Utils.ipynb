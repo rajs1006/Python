{
 "cells": [
  {
   "cell_type": "code",
   "execution_count": 3,
   "metadata": {},
   "outputs": [
    {
     "name": "stdout",
     "output_type": "stream",
     "text": [
      "Automatically created module for IPython interactive environment\n"
     ]
    }
   ],
   "source": [
    "#%reset -f\n",
    "\n",
    "%run DataUtils.ipynb\n",
    "\n",
    "%run LSTM.ipynb\n",
    "%run Visualizer.ipynb\n",
    "%run SVM.ipynb\n",
    "%run SVM-StochasticLearning.ipynb\n",
    "%run NaiveBayes.ipynb\n",
    "%run GridSearch.ipynb\n",
    "%run DensityEstimation.ipynb\n",
    "\n",
    "plt.style.use('seaborn-pastel')\n",
    "plt.ion()\n",
    "\n",
    "%matplotlib tk \n",
    "\n",
    "import sys\n",
    "\n",
    "sys.setrecursionlimit(1500)\n",
    "\n",
    "print(__doc__) "
   ]
  },
  {
   "cell_type": "code",
   "execution_count": 1,
   "metadata": {},
   "outputs": [
    {
     "ename": "NameError",
     "evalue": "name 'Data' is not defined",
     "output_type": "error",
     "traceback": [
      "\u001b[0;31m---------------------------------------------------------------------------\u001b[0m",
      "\u001b[0;31mNameError\u001b[0m                                 Traceback (most recent call last)",
      "\u001b[0;32m<ipython-input-1-f15971341354>\u001b[0m in \u001b[0;36m<module>\u001b[0;34m\u001b[0m\n\u001b[0;32m----> 1\u001b[0;31m \u001b[0mdata_model\u001b[0m \u001b[0;34m=\u001b[0m \u001b[0mData\u001b[0m\u001b[0;34m(\u001b[0m\u001b[0;34m'Abenblatt_sports_data.csv'\u001b[0m\u001b[0;34m)\u001b[0m\u001b[0;34m\u001b[0m\u001b[0;34m\u001b[0m\u001b[0m\n\u001b[0m\u001b[1;32m      2\u001b[0m \u001b[0mdata\u001b[0m \u001b[0;34m=\u001b[0m \u001b[0mdata_model\u001b[0m\u001b[0;34m.\u001b[0m\u001b[0mget_data\u001b[0m\u001b[0;34m(\u001b[0m\u001b[0mdtype\u001b[0m\u001b[0;34m=\u001b[0m\u001b[0;34m{\u001b[0m\u001b[0;34m'isPaidContent'\u001b[0m\u001b[0;34m:\u001b[0m \u001b[0mnp\u001b[0m\u001b[0;34m.\u001b[0m\u001b[0mint8\u001b[0m\u001b[0;34m}\u001b[0m\u001b[0;34m)\u001b[0m\u001b[0;34m\u001b[0m\u001b[0;34m\u001b[0m\u001b[0m\n",
      "\u001b[0;31mNameError\u001b[0m: name 'Data' is not defined"
     ]
    }
   ],
   "source": [
    "data_model = Data('Abenblatt_sports_data.csv')\n",
    "data = data_model.get_data(dtype={'isPaidContent': np.int8})"
   ]
  },
  {
   "cell_type": "code",
   "execution_count": 4,
   "metadata": {},
   "outputs": [],
   "source": [
    "#Code specific to this block\n",
    "#Data evaluation\n",
    "\n",
    "#data_discrepancy(data,sortByKey = ['pageArticleID'], groupByKey = ['pageArticleID'] ,indexLevel=['pageArticleID','Source/Medium' ,'City', 'City ID'])"
   ]
  },
  {
   "cell_type": "code",
   "execution_count": 30,
   "metadata": {
    "cell_style": "center"
   },
   "outputs": [
    {
     "name": "stdout",
     "output_type": "stream",
     "text": [
      "Total positive values (isPaidContent == 1) : 285477\n",
      "Total Negative values (isPaidContent == 0) : 42697\n"
     ]
    }
   ],
   "source": [
    "#print(data.dtypes, ' : ', data.count())\n",
    "\n",
    "pos = data[data.isPaidContent == 1].copy()\n",
    "neg = data[data.isPaidContent == 0].copy()\n",
    "\n",
    "print(\"Total positive values (isPaidContent == 1) : {}\".format( pos.count()[1]))\n",
    "print(\"Total Negative values (isPaidContent == 0) : {}\".format( neg.count()[1]))"
   ]
  },
  {
   "cell_type": "code",
   "execution_count": 9,
   "metadata": {},
   "outputs": [
    {
     "name": "stdout",
     "output_type": "stream",
     "text": [
      "X.shape  (10346,)  Y.shape  (10346,)  x.shape  (1826,)  y.shape  (1826,)\n"
     ]
    }
   ],
   "source": [
    "X, x, Y, y = data_model.process_data(data)\n",
    "\n",
    "tok = DataTokenizer(X, max_len = 20)\n",
    "\n",
    "def get_embeded_matrix(data):\n",
    "    embeded_matrix = tok.oneHotEncoding(data)\n",
    "    print('Matrix shape : ', embeded_matrix.shape)\n",
    "    \n",
    "    return embeded_matrix\n",
    "\n",
    "def get_sequence_matrix(data):\n",
    "    sequence_matrix = tok.tokenize(data)\n",
    "    print('Matrix shape : ', sequence_matrix.shape)\n",
    "    \n",
    "    return sequence_matrix\n",
    "\n",
    "def get_tfidf_matrix(data):\n",
    "    tfidf_matrix = tok.tfidfEncoding(data)\n",
    "    print('Matrix shape : ', tfidf_matrix.shape)\n",
    "    \n",
    "    return tfidf_matrix\n",
    "\n",
    "vocab_len, feature_len = tok.getVocabDim()"
   ]
  },
  {
   "cell_type": "markdown",
   "metadata": {},
   "source": [
    "<b>---------------Data Pos/Neg---------------------------</b>"
   ]
  },
  {
   "cell_type": "code",
   "execution_count": 11,
   "metadata": {},
   "outputs": [],
   "source": [
    "def get_pos_matrix():\n",
    "\n",
    "    X_pos, x_pos, Y_pos, y_pos = data_model.process_data(pos)\n",
    "    print(X_pos.shape, x_pos.shape, Y_pos.shape, y_pos.shape)\n",
    "\n",
    "    tok = DataTokenizer(X_pos, max_len = 20)\n",
    "\n",
    "    X_sequences_matrix_pos = tok.tokenize(X_pos)\n",
    "    x_sequences_matrix_pos = tok.tokenize(x_pos)\n",
    "    \n",
    "    X_embeded_matrix_pos = tok.oneHotEncoding(X_pos)\n",
    "    x_embeded_matrix_pos = tok.oneHotEncoding(x_pos)\n",
    "    \n",
    "    return X_sequences_matrix_pos, X_embeded_matrix_pos, Y_pos, x_sequences_matrix_pos, x_embeded_matrix_pos, y_pos, tok"
   ]
  },
  {
   "cell_type": "code",
   "execution_count": 12,
   "metadata": {},
   "outputs": [],
   "source": [
    "def get_neg_matrix():\n",
    "\n",
    "    X_neg, x_neg, Y_neg, y_neg = data_model.process_data(neg)\n",
    "    print(X_neg.shape, x_neg.shape, Y_neg.shape, y_neg.shape)\n",
    "\n",
    "    tok = DataTokenizer(X_neg, max_len = 20)\n",
    "\n",
    "    X_sequences_matrix_neg = tok.tokenize(X_neg)\n",
    "    x_sequences_matrix_neg = tok.tokenize(x_neg)\n",
    "    \n",
    "    X_embeded_matrix_neg = tok.oneHotEncoding(X_neg)\n",
    "    x_embeded_matrix_neg = tok.tokenize(x_neg)\n",
    "    \n",
    "    return X_sequences_matrix_neg, X_embeded_matrix_neg, Y_neg, x_sequences_matrix_neg, x_embeded_matrix_neg, y_neg, tok\n"
   ]
  },
  {
   "cell_type": "markdown",
   "metadata": {},
   "source": [
    "<b>---------- Tsne Data ------------------<b>"
   ]
  },
  {
   "cell_type": "code",
   "execution_count": 13,
   "metadata": {},
   "outputs": [],
   "source": [
    "def get_tsne_matrix(matrix, dim=2):\n",
    "    # print_words(svm.model.dual_coef_.T)\n",
    "    sne_matrix = TSNEModel(dim=dim).fit(matrix)\n",
    "\n",
    "    return sne_matrix"
   ]
  }
 ],
 "metadata": {
  "kernelspec": {
   "display_name": "Python 3",
   "language": "python",
   "name": "python3"
  },
  "language_info": {
   "codemirror_mode": {
    "name": "ipython",
    "version": 3
   },
   "file_extension": ".py",
   "mimetype": "text/x-python",
   "name": "python",
   "nbconvert_exporter": "python",
   "pygments_lexer": "ipython3",
   "version": "3.7.3"
  },
  "toc": {
   "base_numbering": 1,
   "nav_menu": {},
   "number_sections": true,
   "sideBar": true,
   "skip_h1_title": false,
   "title_cell": "Table of Contents",
   "title_sidebar": "Contents",
   "toc_cell": false,
   "toc_position": {},
   "toc_section_display": true,
   "toc_window_display": false
  }
 },
 "nbformat": 4,
 "nbformat_minor": 4
}
