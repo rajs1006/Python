{
 "cells": [
  {
   "cell_type": "code",
   "execution_count": null,
   "metadata": {},
   "outputs": [],
   "source": [
    "from sklearn.model_selection import GridSearchCV, RandomizedSearchCV\n",
    "from sklearn.pipeline import Pipeline"
   ]
  },
  {
   "cell_type": "code",
   "execution_count": 2,
   "metadata": {},
   "outputs": [],
   "source": [
    "class GridSearch():\n",
    "\n",
    "    def __init__(self, estimator, params, cv=None, refit=True, verbose=10, threads = 1):\n",
    "        self.model = GridSearchCV(\n",
    "            estimator=estimator, param_grid=params, cv=cv, refit=refit, verbose=verbose, n_jobs=threads)\n",
    "\n",
    "    def fit(self, X, Y):\n",
    "        self.model.fit(X, Y)\n",
    "        print('Grid Search Done....')\n",
    "\n",
    "    def predict(self, x):\n",
    "        return self.model.predict(x)\n",
    "\n",
    "    def predict_proba(self, x):\n",
    "        return self.model.predict_proba(x)\n",
    "\n",
    "    def score(self, X, Y):\n",
    "        return self.model.score(X, Y)\n",
    "\n",
    "    def set_params(self, **kwargs):\n",
    "        self.model.set_params(**kwargs)\n",
    "\n",
    "    def get_params(self, deep=True):\n",
    "        return self.model.get_params(deep)\n",
    "\n",
    "    def params(self):\n",
    "        return self.model.cv_results_, self.model.best_score_, self.model.best_params_, self.model.best_estimator_\n"
   ]
  },
  {
   "cell_type": "code",
   "execution_count": 3,
   "metadata": {},
   "outputs": [],
   "source": [
    "def GridSearchModel(X_matrix, Y, x_matrix, y, parameters, model=None , filename=None, cv=None, threads = 1):\n",
    "    \n",
    "    if model is not None:\n",
    "        gd = GridSearch(model, parameters, cv=cv, threads = threads)\n",
    "    else:\n",
    "        pipe = Pipeline([('model', DummyEstimator())]) # Placeholder Estimator\n",
    "        gd = GridSearch(pipe, parameters, cv=cv, threads = threads)\n",
    "    \n",
    "    print('\\n--------------------------------FIT---------------------------------------------\\n')\n",
    "    gd.fit(X_matrix, Y)\n",
    "\n",
    "    print('\\n----------------------------Parameters---------------------------------------------\\n')\n",
    "#     training_score = gd.score(X_matrix, Y)\n",
    "#     print('Trainign Accuracy score : ', training_score)\n",
    "#     print('\\n------------------------------------------------------------------------------------\\n')\n",
    "\n",
    "    y_trainig_hat = gd.predict(X_matrix)\n",
    "    train_metric = metric_score(Y, y_trainig_hat, type='Training')\n",
    "    \n",
    "    print('Training Prediction probability : ', gd.predict_proba(X_matrix))\n",
    "    print('\\n------------------------------------------------------------------------------------\\n')\n",
    "\n",
    "#     test_score = gd.score(x_matrix, y)\n",
    "#     print('Test Accuracy score : ', test_score)\n",
    "#     print('\\n------------------------------------------------------------------------------------\\n')\n",
    "\n",
    "    y_test_hat = gd.predict(x_matrix)\n",
    "    test_metric = metric_score(y, y_test_hat, type='Test')\n",
    "    \n",
    "    print('Test Prediction probability : ', gd.predict_proba(x_matrix))\n",
    "    print('\\n------------------------------------------------------------------------------------\\n')\n",
    "    \n",
    "    results, best_score, best_params, best_estimator = gd.params()\n",
    "\n",
    "    pd_results = pd.DataFrame(results)\n",
    "    \n",
    "    print('Results : \\n', pd_results)\n",
    "    print('\\n------------------------------------------------------------------------------------\\n')\n",
    "    print('Best score : ', best_score)\n",
    "    print('\\n------------------------------------------------------------------------------------\\n')\n",
    "    print('Best parameters ', best_params)\n",
    "    print('\\n------------------------------------------------------------------------------------\\n')\n",
    "    print('Best estimator ', best_estimator)\n",
    "    print('\\n------------------------------------------------------------------------------------\\n')\n",
    "    \n",
    "    if filename is not None:\n",
    "        pd_best = pd.DataFrame({\"best_params\" : best_params})\n",
    "        \n",
    "        save_results_html(filename, pd.concat([pd.concat([train_metric, test_metric], axis=1, sort=False), pd_best], keys=['Score', 'Model'], axis=1, sort=False))\n",
    "        save_results_csv(filename, pd_results)\n",
    "        save_results_csv(filename, pd_best, mode='a')\n",
    "    "
   ]
  },
  {
   "cell_type": "code",
   "execution_count": 3,
   "metadata": {},
   "outputs": [],
   "source": [
    "class DummyEstimator(BaseEstimator):\n",
    "    def fit(self): pass\n",
    "    def score(self): pass"
   ]
  },
  {
   "cell_type": "code",
   "execution_count": 3,
   "metadata": {},
   "outputs": [],
   "source": []
  }
 ],
 "metadata": {
  "kernelspec": {
   "display_name": "Python 3",
   "language": "python",
   "name": "python3"
  },
  "language_info": {
   "codemirror_mode": {
    "name": "ipython",
    "version": 3
   },
   "file_extension": ".py",
   "mimetype": "text/x-python",
   "name": "python",
   "nbconvert_exporter": "python",
   "pygments_lexer": "ipython3",
   "version": "3.7.3"
  }
 },
 "nbformat": 4,
 "nbformat_minor": 4
}
