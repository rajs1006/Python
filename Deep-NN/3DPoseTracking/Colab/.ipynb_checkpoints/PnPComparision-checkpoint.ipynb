{
 "cells": [
  {
   "cell_type": "code",
   "execution_count": 56,
   "metadata": {},
   "outputs": [],
   "source": [
    "import os\n",
    "import numpy as np\n",
    "from numpy import linalg as lin\n",
    "\n",
    "import pandas as pd\n",
    "from scipy.optimize import minimize\n",
    "\n",
    "from shapely.geometry import Polygon"
   ]
  },
  {
   "cell_type": "code",
   "execution_count": 99,
   "metadata": {},
   "outputs": [
    {
     "name": "stdout",
     "output_type": "stream",
     "text": [
      "ADD error 58.411638589820065 : ADI error 4.36416212151522 ACPD error 1.5318877250509808 MCPD 3.22361870729155 Mean IOU 0.7112730481270574\n"
     ]
    }
   ],
   "source": [
    "path = \"/home/sourabh/Documents/TU-Berlin/Thesis\"\n",
    "dataPath = \"Sytheticdata/ml-imagesynthesis/captures\"\n",
    "\n",
    "folderPath = os.path.join(path, dataPath, \"Train/\")\n",
    "\n",
    "def polygon_area(points):  \n",
    "    \"\"\"Return the area of the polygon whose vertices are given by the\n",
    "    sequence points.\n",
    "\n",
    "    \"\"\"\n",
    "    area = 0\n",
    "    q = points[-1]\n",
    "    for p in points:  \n",
    "        area += p[0] * q[1] - p[1] * q[0]\n",
    "        q = p\n",
    "    return area / 2\n",
    "\n",
    "\n",
    "\n",
    "ADDError = []\n",
    "ADIError = []\n",
    "ACPDError = []\n",
    "MCPDError = []\n",
    "IOUs = []\n",
    "for i in range(2, 100):\n",
    "    file = \"image_%05d_img\" %i\n",
    "    dataGT = pd.read_csv(os.path.join(folderPath, \"{}-GT.txt\".format(file)), header=None).to_numpy()\n",
    "    dataPnP = pd.read_csv(os.path.join(folderPath, \"{}-PnP.txt\".format(file)), header=None).to_numpy()\n",
    "    \n",
    "    ADD = lin.norm(dataGT - dataPnP)\n",
    "    ADI = np.min([lin.norm(dataGT[i] - dataPnP[i]) for i in range(0, dataGT.shape[0])])\n",
    "    ACPD = np.mean([lin.norm(dataGT[i] - dataPnP[i]) for i in range(0, dataGT.shape[0])])\n",
    "    MCPD = np.max([lin.norm(dataGT[i] - dataPnP[i]) for i in range(0, dataGT.shape[0])])\n",
    "\n",
    "    p1 = Polygon(dataGT)\n",
    "    p2 = Polygon(dataPnP)\n",
    "    \n",
    "    IOU = np.divide(p1.intersection(p2).area, p1.union(p2).area)\n",
    "    \n",
    "    ADDError.append(ADD)\n",
    "    ADIError.append(ADI)\n",
    "    ACPDError.append(ACPD)\n",
    "    MCPDError.append(MCPD)\n",
    "    IOUs.append(IOU)\n",
    "    \n",
    "print('ADD error {} : ADI error {} ACPD error {} MCPD {} Mean IOU {}'.format(np.mean(ADDError), np.mean(ADIError), np.min(ACPDError)\\\n",
    "                                                                 , np.min(MCPDError), np.mean(IOUs)))\n",
    "\n",
    "    \n",
    "    "
   ]
  },
  {
   "cell_type": "code",
   "execution_count": 112,
   "metadata": {},
   "outputs": [
    {
     "name": "stdout",
     "output_type": "stream",
     "text": [
      "saving image\n"
     ]
    }
   ],
   "source": [
    "# COncatenate images\n",
    "\n",
    "dataPath = \"Result-pictures/Report\"\n",
    "folderPath = os.path.join(path, dataPath, \"images/\")\n",
    "\n",
    "import sys\n",
    "from PIL import Image\n",
    "\n",
    "images = [Image.open(x) for x in [os.path.join(folderPath,'image39.png'), \\\n",
    "                                os.path.join(folderPath,'image40.png'), \\\n",
    "                                os.path.join(folderPath,'image41.png')]]\n",
    "widths, heights = zip(*(i.size for i in images))\n",
    "\n",
    "total_width = sum(widths)\n",
    "max_height = min(heights)\n",
    "\n",
    "new_im = Image.new('RGB', (total_width, max_height))\n",
    "\n",
    "x_offset = 0\n",
    "for i, im in enumerate(images):\n",
    "    \n",
    "    im.resize((total_width, max_height), Image.ANTIALIAS)\n",
    "    im.save('text{}.png'.format(i))\n",
    "    new_im.paste(im, (x_offset,0))\n",
    "    x_offset += im.size[0]\n",
    "\n",
    "print('saving image')\n",
    "new_im.save('test.png')"
   ]
  }
 ],
 "metadata": {
  "kernelspec": {
   "display_name": "Python 3",
   "language": "python",
   "name": "python3"
  },
  "language_info": {
   "codemirror_mode": {
    "name": "ipython",
    "version": 3
   },
   "file_extension": ".py",
   "mimetype": "text/x-python",
   "name": "python",
   "nbconvert_exporter": "python",
   "pygments_lexer": "ipython3",
   "version": "3.7.3"
  }
 },
 "nbformat": 4,
 "nbformat_minor": 4
}
