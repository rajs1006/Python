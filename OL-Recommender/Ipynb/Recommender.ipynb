{
 "cells": [
  {
   "cell_type": "code",
   "execution_count": 11,
   "metadata": {},
   "outputs": [],
   "source": [
    "%run Model.ipynb"
   ]
  },
  {
   "cell_type": "code",
   "execution_count": 7,
   "metadata": {},
   "outputs": [
    {
     "name": "stdout",
     "output_type": "stream",
     "text": [
      "----Given Raitings by users------\n",
      "\n",
      "Rated 4 for movie Toy Story (1995)\n",
      "Rated 3 for movie Twelve Monkeys (1995)\n",
      "Rated 5 for movie Usual Suspects, The (1995)\n",
      "Rated 4 for movie Outbreak (1995)\n",
      "Rated 5 for movie Shawshank Redemption, The (1994)\n",
      "Rated 3 for movie While You Were Sleeping (1995)\n",
      "Rated 5 for movie Forrest Gump (1994)\n",
      "Rated 2 for movie Silence of the Lambs, The (1991)\n",
      "Rated 4 for movie Alien (1979)\n",
      "Rated 5 for movie Die Hard 2 (1990)\n",
      "Rated 5 for movie Sphere (1998)\n",
      "\n",
      "----Training------\n",
      "\n",
      "...Gradient descent...\n",
      "Optimization terminated successfully.\n",
      "         Current function value: 38951.847560\n",
      "         Iterations: 538\n",
      "         Function evaluations: 814\n",
      "         Gradient evaluations: 814\n",
      "Saving images...\n",
      "Optimal cost is 38951.84755997861 with status True after 538 iterations \n",
      "\n",
      "----Recommendations------\n",
      "\n",
      "Top Recommendations:- \n",
      " Rating 5 for movie Star Kid (1997)\n",
      " Rating 5 for movie Aiqing wansui (1994)\n",
      " Rating 5 for movie Someone Else's America (1995)\n",
      " Rating 5 for movie Prefontaine (1997)\n",
      " Rating 5 for movie Santa with Muscles (1996)\n",
      " Rating 5 for movie Saint of Fort Washington, The (1993)\n",
      " Rating 5 for movie They Made Me a Criminal (1939)\n",
      " Rating 5 for movie Entertaining Angels: The Dorothy Day Story (1996)\n",
      " Rating 4 for movie Marlene Dietrich: Shadow and Light (1996)\n",
      " Rating 4 for movie Great Day in Harlem, A (1994)\n",
      "\n",
      "----RMS error---\n",
      "Root mean squared error : 10.189869266331888\n"
     ]
    }
   ],
   "source": [
    "RecommenderModel('data.mat', 'movie_ids.txt', maxItr = 1000,  batch_size=None, fileName='Scores')"
   ]
  },
  {
   "cell_type": "code",
   "execution_count": 3,
   "metadata": {},
   "outputs": [
    {
     "name": "stdout",
     "output_type": "stream",
     "text": [
      "----Given Raitings by users------\n",
      "\n",
      "Rated 4 for movie Toy Story (1995)\n",
      "Rated 3 for movie Twelve Monkeys (1995)\n",
      "Rated 5 for movie Usual Suspects, The (1995)\n",
      "Rated 4 for movie Outbreak (1995)\n",
      "Rated 5 for movie Shawshank Redemption, The (1994)\n",
      "Rated 3 for movie While You Were Sleeping (1995)\n",
      "Rated 5 for movie Forrest Gump (1994)\n",
      "Rated 2 for movie Silence of the Lambs, The (1991)\n",
      "Rated 4 for movie Alien (1979)\n",
      "Rated 5 for movie Die Hard 2 (1990)\n",
      "Rated 5 for movie Sphere (1998)\n",
      "\n",
      "----Training------\n",
      "\n",
      "...Stochastic gradient descent...\n",
      "Optimization terminated successfully.\n",
      "         Current function value: 38951.847560\n",
      "         Iterations: 370\n",
      "         Function evaluations: 556\n",
      "         Gradient evaluations: 556\n",
      "Saving images...\n"
     ]
    },
    {
     "data": {
      "image/png": "[encoded data removed]",
      "text/plain": [
       "<Figure size 864x360 with 1 Axes>"
      ]
     },
     "metadata": {
      "needs_background": "light"
     },
     "output_type": "display_data"
    },
    {
     "name": "stdout",
     "output_type": "stream",
     "text": [
      "Optimal cost is 38951.847559981026 with status True after 370 iterations \n",
      "\n",
      "----Recommendations------\n",
      "\n",
      "Top Recommendations:- \n",
      " Rating 5 for movie Star Kid (1997)\n",
      " Rating 5 for movie Great Day in Harlem, A (1994)\n",
      " Rating 5 for movie Someone Else's America (1995)\n",
      " Rating 5 for movie Entertaining Angels: The Dorothy Day Story (1996)\n",
      " Rating 5 for movie They Made Me a Criminal (1939)\n",
      " Rating 5 for movie Saint of Fort Washington, The (1993)\n",
      " Rating 5 for movie Marlene Dietrich: Shadow and Light (1996)\n",
      " Rating 4 for movie Prefontaine (1997)\n",
      " Rating 4 for movie Santa with Muscles (1996)\n",
      " Rating 4 for movie Aiqing wansui (1994)\n",
      "\n",
      "----RMS error---\n",
      "Root mean squared error : 10.189869062936047\n"
     ]
    }
   ],
   "source": [
    "RecommenderModel('data.mat', 'movie_ids.txt', maxItr = 1000,  batch_size=1, fileName='Scores')"
   ]
  },
  {
   "cell_type": "code",
   "execution_count": 12,
   "metadata": {},
   "outputs": [
    {
     "name": "stdout",
     "output_type": "stream",
     "text": [
      "\n",
      "----Training------\n",
      "\n",
      "...Gradient descent...\n",
      "Optimization terminated successfully.\n",
      "         Current function value: 38944.658742\n",
      "         Iterations: 420\n",
      "         Function evaluations: 627\n",
      "         Gradient evaluations: 627\n",
      "Saving images...\n",
      "Optimal cost is 38944.658741867686 with status True after 420 iterations \n",
      "(1682, 10) (943, 10)\n",
      "\n",
      "----Given Raitings by users------\n",
      "\n",
      "Rated 4 for movie Toy Story (1995)\n",
      "Rated 3 for movie Twelve Monkeys (1995)\n",
      "Rated 5 for movie Usual Suspects, The (1995)\n",
      "Rated 4 for movie Outbreak (1995)\n",
      "Rated 5 for movie Shawshank Redemption, The (1994)\n",
      "Rated 3 for movie While You Were Sleeping (1995)\n",
      "Rated 5 for movie Forrest Gump (1994)\n",
      "Rated 2 for movie Silence of the Lambs, The (1991)\n",
      "Rated 4 for movie Alien (1979)\n",
      "Rated 5 for movie Die Hard 2 (1990)\n",
      "Rated 5 for movie Sphere (1998)\n",
      "\n",
      "----Training------\n",
      "...Gradient descent...\n",
      "Warning: Desired error not necessarily achieved due to precision loss.\n",
      "         Current function value: 36.247375\n",
      "         Iterations: 4\n",
      "         Function evaluations: 31\n",
      "         Gradient evaluations: 31\n",
      "Saving images...\n",
      "Optimal cost is 36.24737455989852 with status False after 4 iterations \n",
      "(1682, 10) (1, 10)\n",
      "\n",
      "----Recommendations------\n",
      "\n",
      "Top Recommendations:- \n",
      " Rating 5 for movie Marlene Dietrich: Shadow and Light (1996)\n",
      " Rating 5 for movie Great Day in Harlem, A (1994)\n",
      " Rating 5 for movie Star Kid (1997)\n",
      " Rating 5 for movie Saint of Fort Washington, The (1993)\n",
      " Rating 5 for movie Entertaining Angels: The Dorothy Day Story (1996)\n",
      " Rating 5 for movie Someone Else's America (1995)\n",
      " Rating 4 for movie Aiqing wansui (1994)\n",
      " Rating 4 for movie Santa with Muscles (1996)\n",
      " Rating 4 for movie They Made Me a Criminal (1939)\n",
      " Rating 4 for movie Prefontaine (1997)\n",
      "\n",
      "----RMS error---\n",
      "Root mean squared error : 10.002885286821407\n"
     ]
    }
   ],
   "source": [
    "onlineRecommenderModel('data.mat', 'movie_ids.txt', maxItr = 1000,  batch_size=None, fileName='Scores')"
   ]
  },
  {
   "cell_type": "code",
   "execution_count": 13,
   "metadata": {},
   "outputs": [
    {
     "name": "stdout",
     "output_type": "stream",
     "text": [
      "\n",
      "----Training------\n",
      "\n",
      "...Stochastic gradient descent...\n",
      "Optimization terminated successfully.\n",
      "         Current function value: 50007.002198\n",
      "         Iterations: 6\n",
      "         Function evaluations: 21\n",
      "         Gradient evaluations: 21\n",
      "Saving images...\n",
      "Optimal cost is 50007.00219789448 with status True after 6 iterations \n",
      "(1682, 10) (943, 10)\n",
      "\n",
      "----Given Raitings by users------\n",
      "\n",
      "Rated 4 for movie Toy Story (1995)\n",
      "Rated 3 for movie Twelve Monkeys (1995)\n",
      "Rated 5 for movie Usual Suspects, The (1995)\n",
      "Rated 4 for movie Outbreak (1995)\n",
      "Rated 5 for movie Shawshank Redemption, The (1994)\n",
      "Rated 3 for movie While You Were Sleeping (1995)\n",
      "Rated 5 for movie Forrest Gump (1994)\n",
      "Rated 2 for movie Silence of the Lambs, The (1991)\n",
      "Rated 4 for movie Alien (1979)\n",
      "Rated 5 for movie Die Hard 2 (1990)\n",
      "Rated 5 for movie Sphere (1998)\n",
      "\n",
      "----Training------\n",
      "...Stochastic gradient descent...\n",
      "Optimization terminated successfully.\n",
      "         Current function value: 7.888651\n",
      "         Iterations: 2\n",
      "         Function evaluations: 4\n",
      "         Gradient evaluations: 4\n",
      "Saving images...\n",
      "Optimal cost is 7.888651112197258 with status True after 2 iterations \n",
      "(1682, 10) (1, 10)\n",
      "\n",
      "----Recommendations------\n",
      "\n",
      "Top Recommendations:- \n",
      " Rating 5 for movie Star Kid (1997)\n",
      " Rating 5 for movie Saint of Fort Washington, The (1993)\n",
      " Rating 5 for movie Entertaining Angels: The Dorothy Day Story (1996)\n",
      " Rating 5 for movie Great Day in Harlem, A (1994)\n",
      " Rating 5 for movie They Made Me a Criminal (1939)\n",
      " Rating 5 for movie Someone Else's America (1995)\n",
      " Rating 5 for movie Marlene Dietrich: Shadow and Light (1996)\n",
      " Rating 5 for movie Prefontaine (1997)\n",
      " Rating 5 for movie Santa with Muscles (1996)\n",
      " Rating 5 for movie Aiqing wansui (1994)\n",
      "\n",
      "----RMS error---\n",
      "Root mean squared error : 9.986391814067582\n"
     ]
    }
   ],
   "source": [
    "onlineRecommenderModel('data.mat', 'movie_ids.txt', maxItr = 1000, batch_size=1, fileName='Scores')"
   ]
  }
 ],
 "metadata": {
  "kernelspec": {
   "display_name": "Python 3",
   "language": "python",
   "name": "python3"
  },
  "language_info": {
   "codemirror_mode": {
    "name": "ipython",
    "version": 3
   },
   "file_extension": ".py",
   "mimetype": "text/x-python",
   "name": "python",
   "nbconvert_exporter": "python",
   "pygments_lexer": "ipython3",
   "version": "3.7.3"
  }
 },
 "nbformat": 4,
 "nbformat_minor": 4
}
