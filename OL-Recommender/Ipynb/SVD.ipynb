{
 "cells": [
  {
   "cell_type": "code",
   "execution_count": 2,
   "metadata": {},
   "outputs": [],
   "source": [
    "from surprise import SVD\n",
    "from surprise import Dataset,Reader\n",
    "from surprise.model_selection import cross_validate\n",
    "\n",
    "import os"
   ]
  },
  {
   "cell_type": "code",
   "execution_count": 3,
   "metadata": {},
   "outputs": [
    {
     "name": "stdout",
     "output_type": "stream",
     "text": [
      "Evaluating RMSE, MAE of algorithm SVD on 5 split(s).\n",
      "\n",
      "                  Fold 1  Fold 2  Fold 3  Fold 4  Fold 5  Mean    Std     \n",
      "RMSE (testset)    0.9347  0.9443  0.9287  0.9383  0.9330  0.9358  0.0053  \n",
      "MAE (testset)     0.7383  0.7451  0.7325  0.7405  0.7345  0.7382  0.0045  \n",
      "Fit time          3.65    3.47    3.48    3.53    3.43    3.51    0.08    \n",
      "Test time         0.14    0.13    0.10    0.13    0.10    0.12    0.02    \n"
     ]
    },
    {
     "data": {
      "text/plain": [
       "{'test_rmse': array([0.93471971, 0.9443485 , 0.92872074, 0.93832668, 0.93298708]),\n",
       " 'test_mae': array([0.73825299, 0.74508524, 0.73248752, 0.7404942 , 0.73448166]),\n",
       " 'fit_time': (3.6479573249816895,\n",
       "  3.4675981998443604,\n",
       "  3.4823577404022217,\n",
       "  3.5336673259735107,\n",
       "  3.4255194664001465),\n",
       " 'test_time': (0.13567805290222168,\n",
       "  0.12510418891906738,\n",
       "  0.09990954399108887,\n",
       "  0.12714648246765137,\n",
       "  0.09676218032836914)}"
      ]
     },
     "execution_count": 3,
     "metadata": {},
     "output_type": "execute_result"
    }
   ],
   "source": [
    "file_path = os.path.expanduser('~/.surprise_data/ml-100k/ml-100k/u.data')\n",
    "\n",
    "reader = Reader(line_format='user item rating timestamp', sep='\\t')\n",
    "\n",
    "data = Dataset.load_from_file(file_path, reader=reader)\n",
    "# Use the famous SVD algorithm.\n",
    "algo = SVD()\n",
    "\n",
    "# # Run 5-fold cross-validation and print results.\n",
    "cross_validate(algo, data, measures=['RMSE', 'MAE'], cv=5, verbose=True)"
   ]
  },
  {
   "cell_type": "code",
   "execution_count": null,
   "metadata": {},
   "outputs": [],
   "source": []
  }
 ],
 "metadata": {
  "kernelspec": {
   "display_name": "Python 3",
   "language": "python",
   "name": "python3"
  },
  "language_info": {
   "codemirror_mode": {
    "name": "ipython",
    "version": 3
   },
   "file_extension": ".py",
   "mimetype": "text/x-python",
   "name": "python",
   "nbconvert_exporter": "python",
   "pygments_lexer": "ipython3",
   "version": "3.7.3"
  }
 },
 "nbformat": 4,
 "nbformat_minor": 4
}
