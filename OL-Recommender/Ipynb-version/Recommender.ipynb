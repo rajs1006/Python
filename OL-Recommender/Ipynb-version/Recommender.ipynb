{
 "cells": [
  {
   "cell_type": "code",
   "execution_count": 1,
   "metadata": {},
   "outputs": [],
   "source": [
    "%run Utils.ipynb\n",
    "%run CollaborativeFiltering.ipynb"
   ]
  },
  {
   "cell_type": "code",
   "execution_count": 2,
   "metadata": {},
   "outputs": [],
   "source": [
    "class Recommender():\n",
    "    \n",
    "    def __init__(self, dataFile):\n",
    "        \n",
    "        self.Y, self.R = DATA.loadData(file=dataFile)\n",
    "        self.predictions = None\n",
    "        self.X = None\n",
    "        self.Theta = None\n",
    "        \n",
    "    def fit(self, batchSize = None , numFeature = 10, maxItr = 1000, lam = 10, fileName = None):\n",
    "        \n",
    "        YNorm, self.YMean = Normalize.normalize(self.Y, self.R)\n",
    "        numMovie, numUser = self.Y.shape\n",
    "\n",
    "        X = rand.rand(numMovie, numFeature)\n",
    "        Theta = rand.rand(numUser, numFeature)\n",
    "        initialParam = np.concatenate((X, Theta)).ravel()\n",
    "\n",
    "        anim = AnimateScores(maxItr)\n",
    "        costs = []\n",
    "        counts= []\n",
    "        \n",
    "        options = {'maxiter': maxItr, 'disp': True}\n",
    "        args = (YNorm, self.R, numUser, numMovie, numFeature, lam, batchSize, anim ,costs, counts)\n",
    "        if batchSize is None:\n",
    "            print('...Gradient descent...')\n",
    "            fileName = fileName + '-GD'\n",
    "            optimum = minimize(CollaborativeFilter.cost, initialParam, args=args, jac=CollaborativeFilter.gradient, method='CG',\n",
    "                           options=options)\n",
    "        else:\n",
    "            print('...Stochastic gradient descent...')\n",
    "            fileName = fileName + '-SGD'\n",
    "            optimum = minimize(CollaborativeFilter.cost, initialParam, args=args, jac=CollaborativeFilter.stochasticGradient, method='CG',\n",
    "                           options=options)\n",
    "\n",
    "        # Saving the graphs\n",
    "        if fileName is not None:\n",
    "            print('Saving images...')\n",
    "            anim.plot_static_graph(costs, file = fileName)\n",
    "            anim.save(fileName)\n",
    "        \n",
    "        print('Optimal cost is {} with status {} after {} iterations '.format(optimum.fun, optimum.success, optimum.nit))\n",
    "        \n",
    "        theta = optimum.x\n",
    "        self.X = np.reshape(theta[0:numMovie * numFeature], (numMovie, numFeature))\n",
    "        self.Theta = np.reshape(theta[numMovie * numFeature:], (numUser, numFeature))\n",
    "        \n",
    "    def predict(self):\n",
    "        \n",
    "        if self.X is None or self.Theta is None:\n",
    "            raise RuntimeError('Model is not fitted yet, run fit method first...')\n",
    "        \n",
    "        self.predictions = self.X.dot(self.Theta.T)\n",
    "        return self.predictions\n",
    "        \n",
    "    def giveRatings(self, movieFileName):\n",
    "        \n",
    "        self.movieList = DATA.readTXT(movieFileName)\n",
    "        myMovieRating = np.zeros((len(self.movieList), 1))\n",
    "\n",
    "        myMovieRating[0] = 4\n",
    "        myMovieRating[97] = 2\n",
    "        myMovieRating[6] = 3\n",
    "        myMovieRating[11] = 5\n",
    "        myMovieRating[53] = 4\n",
    "        myMovieRating[63] = 5\n",
    "        myMovieRating[65] = 3\n",
    "        myMovieRating[68] = 5\n",
    "        myMovieRating[182] = 4\n",
    "        myMovieRating[225] = 5\n",
    "        myMovieRating[354] = 5\n",
    "\n",
    "        for i in range(0, len(myMovieRating)):\n",
    "            if myMovieRating[i] != 0:\n",
    "                print('Rated {} for movie {}'.format(int(myMovieRating[i]), self.movieList[i]))\n",
    "                \n",
    "        self.Y = np.concatenate((myMovieRating, self.Y), axis=1)\n",
    "        self.R = np.concatenate(((myMovieRating > 0).astype(int), self.R), axis=1)\n",
    "        \n",
    "    def recommend(self):\n",
    "        \n",
    "        if self.predictions is None:\n",
    "            raise RuntimeError('predict method has not been executed, run predict before recommending...')\n",
    "        \n",
    "        myRecommendations = np.reshape(self.predictions[:, 1], (len(self.predictions[:, 1]), 1)) + self.YMean\n",
    "\n",
    "        sortedIndex = np.argsort(myRecommendations, axis=0)[::-1]\n",
    "        \n",
    "        print('\\nTop Recommendations:- ')\n",
    "        for i in range(0, 10):\n",
    "            j = sortedIndex[i].item()\n",
    "            print(' Rating {} for movie {}'.format(myRecommendations[j], self.movieList[j]))\n",
    "\n",
    "    def saveTrainedData(self, file):\n",
    "        trainedData = {'X': self.X, 'Theta': self.Theta}\n",
    "        spi.savemat(file, trainedData)\n",
    "        "
   ]
  },
  {
   "cell_type": "code",
   "execution_count": 3,
   "metadata": {},
   "outputs": [],
   "source": [
    "def RecommenderModel(dataFile, movieFileName, maxItr = 1000,  batch_size=None, fileName=None):\n",
    "    \n",
    "    model = Recommender(dataFile)\n",
    "    \n",
    "    model.giveRatings(movieFileName)\n",
    "    \n",
    "    print('\\n----Training------')\n",
    "    model.fit(maxItr = maxItr, batchSize=batch_size, fileName = fileName)\n",
    "    \n",
    "    model.predict()\n",
    "    \n",
    "    print('\\n----Recommendations------')\n",
    "    model.recommend()"
   ]
  },
  {
   "cell_type": "code",
   "execution_count": 4,
   "metadata": {},
   "outputs": [
    {
     "name": "stdout",
     "output_type": "stream",
     "text": [
      "Rated 4 for movie Toy Story (1995)\n",
      "Rated 3 for movie Twelve Monkeys (1995)\n",
      "Rated 5 for movie Usual Suspects, The (1995)\n",
      "Rated 4 for movie Outbreak (1995)\n",
      "Rated 5 for movie Shawshank Redemption, The (1994)\n",
      "Rated 3 for movie While You Were Sleeping (1995)\n",
      "Rated 5 for movie Forrest Gump (1994)\n",
      "Rated 2 for movie Silence of the Lambs, The (1991)\n",
      "Rated 4 for movie Alien (1979)\n",
      "Rated 5 for movie Die Hard 2 (1990)\n",
      "Rated 5 for movie Sphere (1998)\n",
      "\n",
      "----Training------\n",
      "...Gradient descent...\n",
      "Optimization terminated successfully.\n",
      "         Current function value: 38951.847560\n",
      "         Iterations: 478\n",
      "         Function evaluations: 756\n",
      "         Gradient evaluations: 755\n",
      "Saving images...\n"
     ]
    },
    {
     "data": {
      "image/png": "[encoded data removed]",
      "text/plain": [
       "<Figure size 1440x360 with 1 Axes>"
      ]
     },
     "metadata": {
      "needs_background": "light"
     },
     "output_type": "display_data"
    },
    {
     "data": {
      "image/png": "[encoded data removed]",
      "text/plain": [
       "<Figure size 1440x360 with 1 Axes>"
      ]
     },
     "metadata": {
      "needs_background": "light"
     },
     "output_type": "display_data"
    },
    {
     "name": "stdout",
     "output_type": "stream",
     "text": [
      ".... Saving aimation Results/Scores-GD.gif\n"
     ]
    },
    {
     "ename": "AttributeError",
     "evalue": "'AnimateScores' object has no attribute 'anim'",
     "output_type": "error",
     "traceback": [
      "\u001b[0;31m---------------------------------------------------------------------------\u001b[0m",
      "\u001b[0;31mAttributeError\u001b[0m                            Traceback (most recent call last)",
      "\u001b[0;32m<ipython-input-4-234d03f944cc>\u001b[0m in \u001b[0;36m<module>\u001b[0;34m\u001b[0m\n\u001b[0;32m----> 1\u001b[0;31m \u001b[0mRecommenderModel\u001b[0m\u001b[0;34m(\u001b[0m\u001b[0;34m'data.mat'\u001b[0m\u001b[0;34m,\u001b[0m \u001b[0;34m'movie_ids.txt'\u001b[0m\u001b[0;34m,\u001b[0m \u001b[0mmaxItr\u001b[0m \u001b[0;34m=\u001b[0m \u001b[0;36m1000\u001b[0m\u001b[0;34m,\u001b[0m  \u001b[0mbatch_size\u001b[0m\u001b[0;34m=\u001b[0m\u001b[0;32mNone\u001b[0m\u001b[0;34m,\u001b[0m \u001b[0mfileName\u001b[0m\u001b[0;34m=\u001b[0m\u001b[0;34m'Scores'\u001b[0m\u001b[0;34m)\u001b[0m\u001b[0;34m\u001b[0m\u001b[0;34m\u001b[0m\u001b[0m\n\u001b[0m",
      "\u001b[0;32m<ipython-input-3-05dea59a9f0b>\u001b[0m in \u001b[0;36mRecommenderModel\u001b[0;34m(dataFile, movieFileName, maxItr, batch_size, fileName)\u001b[0m\n\u001b[1;32m      6\u001b[0m \u001b[0;34m\u001b[0m\u001b[0m\n\u001b[1;32m      7\u001b[0m     \u001b[0mprint\u001b[0m\u001b[0;34m(\u001b[0m\u001b[0;34m'\\n----Training------'\u001b[0m\u001b[0;34m)\u001b[0m\u001b[0;34m\u001b[0m\u001b[0;34m\u001b[0m\u001b[0m\n\u001b[0;32m----> 8\u001b[0;31m     \u001b[0mmodel\u001b[0m\u001b[0;34m.\u001b[0m\u001b[0mfit\u001b[0m\u001b[0;34m(\u001b[0m\u001b[0mmaxItr\u001b[0m \u001b[0;34m=\u001b[0m \u001b[0mmaxItr\u001b[0m\u001b[0;34m,\u001b[0m \u001b[0mbatchSize\u001b[0m\u001b[0;34m=\u001b[0m\u001b[0mbatch_size\u001b[0m\u001b[0;34m,\u001b[0m \u001b[0mfileName\u001b[0m \u001b[0;34m=\u001b[0m \u001b[0mfileName\u001b[0m\u001b[0;34m)\u001b[0m\u001b[0;34m\u001b[0m\u001b[0;34m\u001b[0m\u001b[0m\n\u001b[0m\u001b[1;32m      9\u001b[0m \u001b[0;34m\u001b[0m\u001b[0m\n\u001b[1;32m     10\u001b[0m     \u001b[0mmodel\u001b[0m\u001b[0;34m.\u001b[0m\u001b[0mpredict\u001b[0m\u001b[0;34m(\u001b[0m\u001b[0;34m)\u001b[0m\u001b[0;34m\u001b[0m\u001b[0;34m\u001b[0m\u001b[0m\n",
      "\u001b[0;32m<ipython-input-2-19594742b15c>\u001b[0m in \u001b[0;36mfit\u001b[0;34m(self, batchSize, numFeature, maxItr, lam, fileName)\u001b[0m\n\u001b[1;32m     38\u001b[0m             \u001b[0mprint\u001b[0m\u001b[0;34m(\u001b[0m\u001b[0;34m'Saving images...'\u001b[0m\u001b[0;34m)\u001b[0m\u001b[0;34m\u001b[0m\u001b[0;34m\u001b[0m\u001b[0m\n\u001b[1;32m     39\u001b[0m             \u001b[0manim\u001b[0m\u001b[0;34m.\u001b[0m\u001b[0mplot_static_graph\u001b[0m\u001b[0;34m(\u001b[0m\u001b[0mcosts\u001b[0m\u001b[0;34m,\u001b[0m \u001b[0mfile\u001b[0m \u001b[0;34m=\u001b[0m \u001b[0mfileName\u001b[0m\u001b[0;34m)\u001b[0m\u001b[0;34m\u001b[0m\u001b[0;34m\u001b[0m\u001b[0m\n\u001b[0;32m---> 40\u001b[0;31m             \u001b[0manim\u001b[0m\u001b[0;34m.\u001b[0m\u001b[0msave\u001b[0m\u001b[0;34m(\u001b[0m\u001b[0mfileName\u001b[0m\u001b[0;34m)\u001b[0m\u001b[0;34m\u001b[0m\u001b[0;34m\u001b[0m\u001b[0m\n\u001b[0m\u001b[1;32m     41\u001b[0m \u001b[0;34m\u001b[0m\u001b[0m\n\u001b[1;32m     42\u001b[0m         \u001b[0mprint\u001b[0m\u001b[0;34m(\u001b[0m\u001b[0;34m'Optimal cost is {} with status {} after {} iterations '\u001b[0m\u001b[0;34m.\u001b[0m\u001b[0mformat\u001b[0m\u001b[0;34m(\u001b[0m\u001b[0moptimum\u001b[0m\u001b[0;34m.\u001b[0m\u001b[0mfun\u001b[0m\u001b[0;34m,\u001b[0m \u001b[0moptimum\u001b[0m\u001b[0;34m.\u001b[0m\u001b[0msuccess\u001b[0m\u001b[0;34m,\u001b[0m \u001b[0moptimum\u001b[0m\u001b[0;34m.\u001b[0m\u001b[0mnit\u001b[0m\u001b[0;34m)\u001b[0m\u001b[0;34m)\u001b[0m\u001b[0;34m\u001b[0m\u001b[0;34m\u001b[0m\u001b[0m\n",
      "\u001b[0;32m<ipython-input-1-85755ff1108a>\u001b[0m in \u001b[0;36msave\u001b[0;34m(self, filename)\u001b[0m\n\u001b[1;32m     61\u001b[0m             \u001b[0mf\u001b[0m \u001b[0;34m=\u001b[0m \u001b[0;34m'{}/{}.gif'\u001b[0m\u001b[0;34m.\u001b[0m\u001b[0mformat\u001b[0m\u001b[0;34m(\u001b[0m\u001b[0mresult_folder\u001b[0m\u001b[0;34m,\u001b[0m \u001b[0mfilename\u001b[0m\u001b[0;34m)\u001b[0m\u001b[0;34m\u001b[0m\u001b[0;34m\u001b[0m\u001b[0m\n\u001b[1;32m     62\u001b[0m             \u001b[0mprint\u001b[0m\u001b[0;34m(\u001b[0m\u001b[0;34m\".... Saving aimation {}\"\u001b[0m\u001b[0;34m.\u001b[0m\u001b[0mformat\u001b[0m\u001b[0;34m(\u001b[0m\u001b[0mf\u001b[0m\u001b[0;34m)\u001b[0m\u001b[0;34m)\u001b[0m\u001b[0;34m\u001b[0m\u001b[0;34m\u001b[0m\u001b[0m\n\u001b[0;32m---> 63\u001b[0;31m             \u001b[0mself\u001b[0m\u001b[0;34m.\u001b[0m\u001b[0manim\u001b[0m\u001b[0;34m.\u001b[0m\u001b[0msave\u001b[0m\u001b[0;34m(\u001b[0m\u001b[0mf\u001b[0m\u001b[0;34m,\u001b[0m \u001b[0mwriter\u001b[0m \u001b[0;34m=\u001b[0m \u001b[0;34m\"pillow\"\u001b[0m\u001b[0;34m,\u001b[0m \u001b[0mfps\u001b[0m\u001b[0;34m=\u001b[0m\u001b[0;36m5\u001b[0m\u001b[0;34m)\u001b[0m\u001b[0;34m\u001b[0m\u001b[0;34m\u001b[0m\u001b[0m\n\u001b[0m\u001b[1;32m     64\u001b[0m \u001b[0;34m\u001b[0m\u001b[0m\n\u001b[1;32m     65\u001b[0m     \u001b[0;31m#Static graph to plot scores\u001b[0m\u001b[0;34m\u001b[0m\u001b[0;34m\u001b[0m\u001b[0;34m\u001b[0m\u001b[0m\n",
      "\u001b[0;31mAttributeError\u001b[0m: 'AnimateScores' object has no attribute 'anim'"
     ]
    }
   ],
   "source": [
    "RecommenderModel('data.mat', 'movie_ids.txt', maxItr = 1000,  batch_size=None, fileName='Scores')"
   ]
  },
  {
   "cell_type": "code",
   "execution_count": null,
   "metadata": {},
   "outputs": [],
   "source": []
  }
 ],
 "metadata": {
  "kernelspec": {
   "display_name": "Python 3",
   "language": "python",
   "name": "python3"
  },
  "language_info": {
   "codemirror_mode": {
    "name": "ipython",
    "version": 3
   },
   "file_extension": ".py",
   "mimetype": "text/x-python",
   "name": "python",
   "nbconvert_exporter": "python",
   "pygments_lexer": "ipython3",
   "version": "3.7.3"
  }
 },
 "nbformat": 4,
 "nbformat_minor": 4
}
